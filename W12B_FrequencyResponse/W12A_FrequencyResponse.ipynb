{
 "cells": [
  {
   "cell_type": "markdown",
   "metadata": {
    "toc": "true"
   },
   "source": [
    "<h1>Table of Contents<span class=\"tocSkip\"></span></h1>\n",
    "<div class=\"toc\"><ul class=\"toc-item\"><li><span><a href=\"#Challenge\" data-toc-modified-id=\"Challenge-1\"><span class=\"toc-item-num\">1&nbsp;&nbsp;</span>Challenge</a></span></li><li><span><a href=\"#Frequency-Response-Review\" data-toc-modified-id=\"Frequency-Response-Review-2\"><span class=\"toc-item-num\">2&nbsp;&nbsp;</span>Frequency Response Review</a></span><ul class=\"toc-item\"><li><span><a href=\"#How-do-we-characterize-a-system's-response-to-a-sinusoidal-input?\" data-toc-modified-id=\"How-do-we-characterize-a-system's-response-to-a-sinusoidal-input?-2.1\"><span class=\"toc-item-num\">2.1&nbsp;&nbsp;</span>How do we <em>characterize</em> a system's response to a sinusoidal input?</a></span></li><li><span><a href=\"#Derivation:-How-can-we-use-a-transfer-function-to-calculate-the-magnitude-ratio-and-phase-lag-of-a-system's-response-to-a-sinusoidal-input?\" data-toc-modified-id=\"Derivation:-How-can-we-use-a-transfer-function-to-calculate-the-magnitude-ratio-and-phase-lag-of-a-system's-response-to-a-sinusoidal-input?-2.2\"><span class=\"toc-item-num\">2.2&nbsp;&nbsp;</span>Derivation: How can we use a transfer function to calculate the magnitude ratio and phase lag of a system's response to a sinusoidal input?</a></span></li><li><span><a href=\"#Disciplined-Process:-Finding-the-amplitude-and-phase-of-a-system's-response-to-a-sinusoidal-input\" data-toc-modified-id=\"Disciplined-Process:-Finding-the-amplitude-and-phase-of-a-system's-response-to-a-sinusoidal-input-2.3\"><span class=\"toc-item-num\">2.3&nbsp;&nbsp;</span><em>Disciplined Process:</em> Finding the amplitude and phase of a system's response to a sinusoidal input</a></span></li></ul></li><li><span><a href=\"#Example:-Find-the-magnitude-and-phase-of-a-steady-state-sinusoidal-response\" data-toc-modified-id=\"Example:-Find-the-magnitude-and-phase-of-a-steady-state-sinusoidal-response-3\"><span class=\"toc-item-num\">3&nbsp;&nbsp;</span>Example: Find the magnitude and phase of a steady-state sinusoidal response</a></span></li><li><span><a href=\"#OPTIONAL-Exercises:-Frequency-Response.-(For-grade,-must-submit-by-last-day-of-classes)\" data-toc-modified-id=\"OPTIONAL-Exercises:-Frequency-Response.-(For-grade,-must-submit-by-last-day-of-classes)-4\"><span class=\"toc-item-num\">4&nbsp;&nbsp;</span><strong>OPTIONAL</strong> Exercises: Frequency Response. (For grade, must submit by last day of classes)</a></span><ul class=\"toc-item\"><li><span><a href=\"#Exercise-1\" data-toc-modified-id=\"Exercise-1-4.1\"><span class=\"toc-item-num\">4.1&nbsp;&nbsp;</span>Exercise 1</a></span></li><li><span><a href=\"#Exercise-2\" data-toc-modified-id=\"Exercise-2-4.2\"><span class=\"toc-item-num\">4.2&nbsp;&nbsp;</span>Exercise 2</a></span></li><li><span><a href=\"#Exercise-3\" data-toc-modified-id=\"Exercise-3-4.3\"><span class=\"toc-item-num\">4.3&nbsp;&nbsp;</span>Exercise 3</a></span></li><li><span><a href=\"#Exercise-4\" data-toc-modified-id=\"Exercise-4-4.4\"><span class=\"toc-item-num\">4.4&nbsp;&nbsp;</span>Exercise 4</a></span></li><li><span><a href=\"#Exercise-5\" data-toc-modified-id=\"Exercise-5-4.5\"><span class=\"toc-item-num\">4.5&nbsp;&nbsp;</span>Exercise 5</a></span></li></ul></li></ul></div>"
   ]
  },
  {
   "cell_type": "markdown",
   "metadata": {},
   "source": [
    "# Challenge\n",
    "\n",
    "So far, in ME480, we have rarely discussed what happens to a system when we apply inputs other than constant (step) changes. However, many systems (both open loop and controlled systems) have to react to other types of inputs. \n",
    "\n",
    "If a system is subjected to a \"shock\" type input, we might use an impulse input $U(s) = U$ to study its reaction. As another example, we can study how a system might react to a ramp input, for example, by using the laplace tranform and applying $U(s) = \\frac{U}{s^2}$. We could look at the system's steady state value for a ramp input (if it has one) or we could simulate how its output might evolve over time. \n",
    "\n",
    "But these inputs aren't the only types of inputs we can study! There are many systems that need to react to **periodic** inputs as well! As an example, consider the simulation below of the \"glass grab\" system, but with a glass angle that varies sinusoidally. This could be used to simulate trying to grab a glass while on a moving ship, as an example."
   ]
  },
  {
   "cell_type": "code",
   "execution_count": null,
   "metadata": {
    "init_cell": true
   },
   "outputs": [],
   "source": [
    "%%html\n",
    "<iframe id=\"inlineFrameExample\" title=\"Inline Frame Example\" width=\"1000\" height=\"900\" src=\"https://workbench.lafayette.edu/~brownaa/ME480/glassgrab_sim/glassgrabpd_plot_sinusoid.html\"> </iframe>"
   ]
  },
  {
   "cell_type": "markdown",
   "metadata": {},
   "source": [
    "As you play with the simulator, investigate how increasing the frequency of the glass's oscillation changes the controlled system's response. Is it equally good at tracking the glass at all frequencies? If not, could you adjust the controller to be more effective at a particular frequency?\n",
    "\n",
    "Today's challenge is to understand what *tools* we have to mathematically characterize a system's reponse to sinusoidal inputs. What does it mean for a system to be at \"steady state\" when it is oscillating due to a sinusoidal input? How does the output of the system change as frequency changes?\n",
    "\n",
    "We'll be developing these mathematical tools in the sections below."
   ]
  },
  {
   "cell_type": "markdown",
   "metadata": {
    "resourcetopic": "Dynamic Modeling"
   },
   "source": [
    "# Frequency Response Review\n",
    "\n",
    "## How do we *characterize* a system's response to a sinusoidal input?\n",
    "\n",
    "We have been relying on the Laplace transform fairly heavily this semester. Remember that when we look at a system transfer function in the Laplace domain, we have a complete picture of how that system would respond to any type of input. This is true whether we're talking about the transient portion of the system response, or its steady-state response.\n",
    "\n",
    "Mostly, we've been focusing on system performance (in either closed loop or open loop) in terms of its step response. From a system's step response, we can evaluate properties of the system's behavior like damping ratio, natural frequency, percent overshoot, rise time, etc.\n",
    "\n",
    "But in many cases instances, either a physical system we encounter or a control system we design might have to deal with steady-state, sinusoidal inputs. Examples include:\n",
    "\n",
    "* an RC filter we might design to filter out noise on an AC electrical line (which is a sinusoid at approximately $60Hz$) to improve control system performance\n",
    "* a car suspension designed to filter out \"washboard\" bumps in a road\n",
    "* an autonomous car's path-following controller, which may have to follow a winding road\n",
    "* an active or passive vibration attenuation system on a piece of rotating machinery\n",
    "* a control system that needs to change direction quickly, such as a CNC machine, 3D printer head, or bipedal robot balancing system\n",
    "\n",
    "In all of these cases, a step response (or other time-domain) test or design criterion might be useful, but does not give us direct information about how the system would perform if subjected to a sinusoidal input for a long period of time."
   ]
  },
  {
   "cell_type": "markdown",
   "metadata": {},
   "source": [
    "___\n",
    "\n",
    "Recall from your study of differential equations that when a system described by a linear, constant-coefficient differential equation is subjected to a forcing input, its solution has both \"homogeneous\" (free-response) and \"particular\" (forced response) parts:\n",
    "\n",
    "$$y(t) = y_h(t) + y_p(t)$$ \n",
    "\n",
    "When a dynamic system is subjected to a sinusoidal input, The homogeneous response will eventually die out, and the particular solution will remain. For any linear system, a sinusoidal forcing input *requires* a sinusoidal solution. If our input function takes the form:\n",
    "\n",
    "$$u(t) = U\\sin(\\omega t)$$\n",
    "\n",
    "Where $U$ is the *scalar magnitude* of the forcing input, then our system's particular solution $y_p(t)$ will take the form:\n",
    "\n",
    "$$y_p(t) = Y \\sin(\\omega t + \\phi)$$\n",
    "\n",
    "Where $Y$ is the *scalar magnitude* of the output signal in response to the sinusoid, and $\\phi$ is a *phase lag* of the system's output sinusoid behind the input signal. This concept is shown below for a simple, first-order system."
   ]
  },
  {
   "cell_type": "code",
   "execution_count": null,
   "metadata": {
    "ExecuteTime": {
     "end_time": "2017-11-08T12:17:24.049811Z",
     "start_time": "2017-11-08T12:17:22.701485Z"
    },
    "init_cell": true
   },
   "outputs": [],
   "source": [
    "s = tf('s');\n",
    "%set up the system we wish to simulate\n",
    "P = 1/(s+1);\n",
    "%set up the input signal we will give to the system\n",
    "w = .5*pi;\n",
    "t = linspace(0,10,1000);\n",
    "U = 1;%unity sinusoidal input\n",
    "u = U*sin(w*t);%sinusoidal input\n",
    "%now simulate the system response to this input\n",
    "[y,t] = lsim(P,u,t);\n",
    "%now plot the input and output together to compare\n",
    "plot(t,u,t,y)\n",
    "legend('input','output')\n",
    "xlabel('Time (s)')\n",
    "ylabel('input and response')"
   ]
  },
  {
   "cell_type": "markdown",
   "metadata": {},
   "source": [
    "As you can see, the response $y(t)$'s first peak is a different magnitude than the others, but after its transients die out, it responds to the input with a consistent, sinusoidal output that is of a different magnitude than the input, and that is also \"lagging\" by about 0.65 seconds, but that has the same frequency as the input. *Any linear system subjected to a sinusoidal input will have a sinusoidal output of the same frequency, but of different magnitude and different phase*. \n",
    "\n",
    "In this example, the input frequency was $\\frac{\\pi}{2}$ radians per second, or $\\frac{1}{4}Hz$. This means that one cycle took $4s$ to complete. We call this the *period* $T$ of the sine wave signal. Each full cycle of a sine wave encompasses $2\\pi$ radians. In general, we can calculate the phase lag of an output signal by looking at data by using the formula:\n",
    "\n",
    "$$\\phi = \\frac{2\\pi t_{lag}}{T}$$\n",
    "\n",
    "Where $t_{lag}$ is the amount of time by which the output peaks \"lag\" behind the input peaks *at steady state*. In our case, this amounts to a phase lag of $\\frac{2\\pi(0.65)}{4}= 1$ radians, or about $57.5^\\circ$. \n",
    "\n",
    "To calculate the *magnitude ratio* of the response, we simply take the magnitude of the output, and divide by the magnitude of the input. This tells us how much the system $P$ amplifies or attenuates the sinusoidal input signal at steady state. \n",
    "\n",
    "$$MR = \\frac{\\left|Y\\right|}{\\left|U\\right|} $$\n",
    "\n",
    "for our system, the output signal has an amplitude of roughly $Y=0.53$, while our input signal had a magnitude of $U=1$, so our magnitude ratio for this system at this frequency is $0.53$.\n",
    "\n",
    "This paradigm of looking at how a system responds to sinusoidal inputs is useful for both the design of a physical system like a filter to *reject* sinusoidal inputs at a certain frequency, and for the design of control systems that might need to *track* sinusoidal inputs of a certain frequency. The magnitude ratio is particularly important for assessing how a system responds to a sine wave input, and the target magnitude ratio for a system depends on what the system is supposed to do. If our goal was for perfect tracking of an input of a particular frequency in the design of a control system, our closed loop system $G_{cl}$ should have a *magnitude ratio* of close to 1 for that frequency, but if our goal was to design a filter, we'd want our filter transfer function to have a *small* magnitude ratio, so that the system doesn't respond to, or \"rejects\", inputs of a certain frequency.\n"
   ]
  },
  {
   "cell_type": "markdown",
   "metadata": {},
   "source": [
    "## Derivation: How can we use a transfer function to calculate the magnitude ratio and phase lag of a system's response to a sinusoidal input?\n",
    "\n"
   ]
  },
  {
   "cell_type": "markdown",
   "metadata": {},
   "source": [
    "\n",
    "Consider a transfer function $P(s) = \\frac{y(s)}{u(s)}$ that represents a system that we wish to study the response of under sinusoidal inputs. Now, imagine that we wish to subject the system to an input sine wave of the form:\n",
    "\n",
    "$$u(t) = U\\cos(\\omega t)$$\n",
    "\n",
    "This cosine function has the following representation in the Laplace domain:\n",
    "\n",
    "$$u(s) = U\\frac{s}{s^2+\\omega^2}$$\n",
    "\n",
    "The output of our transfer function $y(s)$ is thus:\n",
    "\n",
    "$$y(s) = u(s)P(s) = U\\frac{s}{s^2+\\omega^2} P(s) $$"
   ]
  },
  {
   "cell_type": "markdown",
   "metadata": {},
   "source": [
    "Let's also make the assumption that $P(s)$ is stable and proper, and that it can be written in the popular \"pole-zero\" form as:\n",
    "\n",
    "$$P(s) = A\\frac{(s+z_1)(s+z_2)\\ldots(s+z_m)}{(s+p_1)(s+p_2)\\ldots(s+p_n)}$$"
   ]
  },
  {
   "cell_type": "markdown",
   "metadata": {},
   "source": [
    "Typically, if we wanted to transform the response $y(s)$ back into the time-domain, we would break it down into a series of first-order \"pieces\" using the partial fraction expansion. This might look something like this, recognizing that we can break $s^2+\\omega^2$ into $(s-j\\omega)(s+j\\omega)$:\n",
    "\n",
    "$$ y(s) = U\\frac{s}{(s+j\\omega)(s-j\\omega)}P(s)=\\frac{K_1}{s-j\\omega} + \\frac{K_1^\\star}{s+j\\omega} + TERMS\\:FROM\\: sP(s)$$\n",
    "\n",
    "Where $K_1$ is a complex term (see the Jupyter notebook from Week 3 about partial fraction expansion) and $K_1^\\star$ is the complex conjugate of $K_1$. We aren't too concerned at the moment about what the rest of the $K$ values for the partial fraction expansion are... why? because these terms all have to do with the *dynamic* or *transient* response of $y(s)$, and thus the *transient* response of $y(t)$. If we're interested in the *steady state* sinusoidal response of our system to the sinusoidal input, these terms will eventually die out (literally go away-- remember that the final value theorem involves setting $s=0$!) if $P(s)$ is stable. This leaves us with the following modification, which will tell us about the *sinusoidal steady state* of our output, which we'll call $y_{ss}(s)$. Remember that unlike the case where we can use the final value theorem to find a single number representing our system's final value, we can't just find one number here... our system's output will oscillate forever, just like the input.\n",
    "\n",
    "$$y_{ss}(s) =  U\\frac{s}{(s+j\\omega)(s-j\\omega)}P(s)=\\frac{K_1}{s-j\\omega}+\\frac{K_1^\\star}{s+j\\omega}$$\n",
    "\n",
    "Now, what we need to do is solve for the complex conjugate factors $K_1 = a + bj$ and $K_1^\\star = a-bj$. To find $K_1$ and $K_1^\\star$, we multiply all of the terms in our equation for $y(s)$ by $(s-j\\omega)$.\n",
    "\n",
    "$$ U\\frac{s}{(s+j\\omega)(s-j\\omega)}P(s) (s-j\\omega) = \\frac{K_1}{s-j\\omega}(s-j\\omega) + \\frac{K_1^\\star}{s+j\\omega}(s-j\\omega)$$"
   ]
  },
  {
   "cell_type": "markdown",
   "metadata": {},
   "source": [
    "Now, what you should notice right away when we perform this multiplication of the entire equation is that some terms will cancel. What we're left with is:\n",
    "\n",
    "$$ U\\frac{s}{(s+j\\omega)}P(s)  = K_1 + \\frac{K_1^\\star}{s+j\\omega}(s-j\\omega)  $$\n",
    "\n",
    "Next, let's evaluate the whole equation at a very special value of $s$, which is $s=j\\omega$. Why this point? For the purposes of this class, let's just assume that we know this point will cause a lot of terms to drop out of our equation for $y_{ss}(s)$. In causing terms to drop out, choosing $s=j\\omega$ affords us a way to solve for the complex partial fraction coefficient $K_1$. \n",
    "\n",
    "$$\\begin{matrix}& \\left.\\left[ U\\frac{s}{(s+j\\omega)}P(s)  = K_1 + \\frac{K_1^\\star}{s+j\\omega}(s-j\\omega)  \\right]\\right|_{s=j\\omega} \\\\ =& U\\frac{j\\omega}{(j\\omega+j\\omega)}P(j\\omega)  = K_1 + \\frac{K_1^\\star}{j\\omega+j\\omega}(j\\omega-j\\omega) \\end{matrix}$$\n"
   ]
  },
  {
   "cell_type": "markdown",
   "metadata": {},
   "source": [
    "It should be clear now that $(j\\omega-j\\omega)=0$, and so the $K_1^\\star$ term drops out, leaving us with:\n",
    "\n",
    "$$U\\frac{j\\omega}{(j\\omega+j\\omega)}P(j\\omega)  = K_1$$"
   ]
  },
  {
   "cell_type": "markdown",
   "metadata": {},
   "source": [
    "now remember that $K_1$ is a complex conjugate number (as of now, we still don't know what it is!). But if we look at the left-hand side of the equation, we can cancel a factor of $j\\omega$, and what we're left with is:\n",
    "\n",
    "$$\\frac{U}{2} P(j\\omega) = K_1$$\n",
    "\n"
   ]
  },
  {
   "cell_type": "markdown",
   "metadata": {},
   "source": [
    "Now, we know that a transfer function evaluated at some particular point $s=\\sigma+j\\omega$ is always a complex number, which has a magnitude and a phase associated with it. We also know that $K_1$ will be some complex number, and can also be written as a combination of a magnitude and a phase angle. Using this fact, we can write:\n",
    "\n",
    "$$K_1=\\frac{U}{2}\\left|P(j\\omega)\\right|e^{j\\angle P(j\\omega)}$$"
   ]
  },
  {
   "cell_type": "markdown",
   "metadata": {},
   "source": [
    "Great! We found $K_1$, and now we can explicitly find its imaginary and real components $K_1 = a+bj$. In particular, because we know that Euler's formula tells us that:\n",
    "\n",
    "$$e^{j\\theta} = cos\\theta + j \\sin \\theta$$\n",
    "\n",
    "We can write $K_1$ as:\n",
    "\n",
    "$$K_1 = a+bj = \\frac{U}{2}\\left|P(j\\omega)\\right|cos(\\angle P(j\\omega)) + j\\frac{U}{2}\\left|P(j\\omega)\\right|sin(\\angle P(j\\omega))$$\n",
    "\n",
    "this allows us to find $a$ and $b$ as:\n",
    "\n",
    "$$\\begin{matrix} a&= \\frac{U}{2}\\left|P(j\\omega)\\right|cos(\\angle P(j\\omega)) \\\\ b&=\\frac{U}{2}\\left|P(j\\omega)\\right|sin(\\angle P(j\\omega))\\end{matrix}$$\n",
    "\n",
    "Which are both real numbers that we can calculate given the transfer function $P$ and the input frequency $\\omega$. So now, let's go back to our equation for $y_{ss}(s)$. \n",
    "\n",
    "$$y_{ss}(s) =  U\\frac{s}{(s+j\\omega)(s-j\\omega)}P(s)=\\frac{K_1}{s-j\\omega}+\\frac{K_1^\\star}{s+j\\omega}$$\n",
    "\n",
    "Getting a common denominator on the right-hand side yields:\n",
    "\n",
    "$$y_{ss}(s) = U\\frac{s}{(s+j\\omega)(s-j\\omega)} = \\frac{(a+bj)(s+j\\omega)+(a-bj)(s-j\\omega)}{(s+j\\omega)(s-j\\omega)}$$"
   ]
  },
  {
   "cell_type": "markdown",
   "metadata": {},
   "source": [
    "Expanding the numerator's terms, we obtain:\n",
    "\n",
    "$$y_{ss}(s) = \\frac{as+aj\\omega+bjs-b\\omega + as-aj\\omega -bjs - b\\omega}{(s+j\\omega)(s-j\\omega)}$$"
   ]
  },
  {
   "cell_type": "markdown",
   "metadata": {},
   "source": [
    "Notice that all of the imaginary terms here will cancel out! What we're left with is:\n",
    "\n",
    "$$y_{ss}(s) = 2\\frac{as-b\\omega}{(s^2+\\omega^2)}$$\n",
    "\n",
    "Now, we can turn to a Laplace table to find:\n",
    "\n",
    "$$\\begin{matrix} \\mathcal{L}^{-1}\\left[\\frac{s}{s^2+\\omega^2}\\right]&=cos(\\omega t)\\\\ \\mathcal{L}^{-1}\\left[\\frac{1}{s^2+\\omega^2}\\right]&=sin(\\omega t) \\end{matrix}$$\n",
    "\n",
    "Using the fact that a sine and a cosine function can be rewritten as a cosine function with a phase lag $\\phi$, what we find after some algebraic manipulation is that:\n",
    "\n",
    "$$y_{ss}(t) = \\mathcal{L}^{-1}y_{ss}(s)= U\\left|P(j\\omega)\\right|cos\\left(\\omega t + \\angle(P(j\\omega))\\right)$$"
   ]
  },
  {
   "cell_type": "markdown",
   "metadata": {},
   "source": [
    "This steady-state sinusoidal response has an *amplitude* $Y=U\\left|P(s)\\right|$ and a *phase* $\\phi = \\angle(P(j\\omega))$. This is a very cool result! We've just shown, using the Laplace Transform, that if we can find the magnitude of our plant transfer function $P(s)$ evaluated as a complex number at some input frequency $\\omega$, we have found the magnitude **ratio** of the system's steady-state response to the sinusoidal input. We also showed that the angle of the complex number $P(j\\omega)$ is the phase difference between the input and output sinusoids at steady state. Note that there are other ways to tackle this derivation using the Fourier Transform, using the method of undetermined coefficients, et al., but this derivation explicitly leverages our knowledge of the Laplace Transform and transfer functions."
   ]
  },
  {
   "cell_type": "markdown",
   "metadata": {
    "resourcetopic": "Dynamic Modeling"
   },
   "source": [
    "## *Disciplined Process:* Finding the amplitude and phase of a system's response to a sinusoidal input\n",
    "\n",
    "In summary, the derivation above gave us the following information:\n",
    "\n",
    "1. If a system represented by a transfer function $P(s)=\\frac{y(s)}{u(s)}$ is subjected to a sinusoidal input of magnutufrequency $\\omega$, or $u(t) = Ucos\\omega t$, the output of the system at steady state, $y_{ss}(t)$ is also a sinusoid with a different magnitude and phase angle than the input, but with the same frequency $\\omega$.\n",
    "2. The magnitude ratio $\\frac{Y}{U}$ of the output sinusoid's amplitude to the input sinusoid's amplitude is $MR = \\left|P(j\\omega)\\right|$. To find it, substitute $s=j\\omega$ into the system transfer function $P(s)$ and find the magnitude of the resulting complex number.\n",
    "3. The phase lag $\\phi$ of the output sinusoid behind the input sinusoid is $\\phi = \\angle(P(j\\omega))$. Find it by substituting $s=j\\omega$ into the system transfer function $P(s)$ and finding the angle of the resulting complex number.\n",
    "\n",
    "This procedure will allow us to find the magnitude and phase of the response of any system described by some transfer function $P(s)$ to any sinusoidal input. We can use this to find out how well a filter works when a sinusoidal noise source has a particular frequency, or see how well a closed-loop control system we designed can track a sinusoidal request $r(t)$ at a given frequency."
   ]
  },
  {
   "cell_type": "markdown",
   "metadata": {},
   "source": [
    "# Example: Find the magnitude and phase of a steady-state sinusoidal response\n",
    "\n",
    "In the introduction to this notebook, we looked \"experimentally\" at the response of the transfer function:\n",
    "\n",
    "$$P(s) = \\frac{1}{s+1}$$\n",
    "\n",
    "to a sine wave of magnitude $U=1$. What we found by looking at the plot of the output \"data\" (from MATLAB's simulation of the response) was that we had a magnitude ratio of $MR=0.53$ and a phase lag of $57.5^\\circ \\approx 1\\:rad$. Let's see if we can reproduce those results using the method presented above.\n",
    "\n",
    "First, we substitute $s=j\\omega$ into our transfer function $P(s)$.\n",
    "\n",
    "$$P(j\\omega) = \\frac{1}{j\\omega +1}$$\n",
    "\n",
    "Then, we find the magnitude ratio or ratio of the output amplitude to the input amplitude $MR=\\frac{Y}{U}=\\left|P(j\\omega)\\right|$:\n",
    "\n",
    "$$\\left|P(j\\omega)\\right| = \\frac{\\sqrt{1^2+0^2}}{\\sqrt{\\omega^2+1^2}}$$\n",
    "\n",
    "Substituting in $\\omega=\\frac{\\pi}{2}$ gives us:\n",
    "\n",
    "$$\\left|P(j\\frac{\\pi}{2})\\right| = \\frac{1}{\\sqrt{1+\\frac{\\pi^2}{2^2}}} = 0.5370$$\n",
    "\n",
    "What this means is that for every unit of input amplitude, the steady state sinusoid that the system gives us has a little over half of the magnitude at this frequency. Now, to find out how far the output lags behind the input, we calculate the phase as:\n",
    "\n",
    "$$\\phi(j\\omega) = \\angle(P(j\\omega)) = \\tan^{-1}\\frac{0}{1} - \\tan^{-1}\\frac{\\frac{\\pi}{2}}{1} \\approx -1 \\: rad$$\n",
    "\n",
    "Note that these predictions match our observations from the plot of the \"data\" above very nicely. Also note that the negative result for $\\phi$ means that the system output does indeed lag *behind* the input."
   ]
  },
  {
   "cell_type": "markdown",
   "metadata": {},
   "source": [
    "# **OPTIONAL** Exercises: Frequency Response. (For grade, must submit by last day of classes)\n",
    "\n",
    "These exercises are **not required** but can improve your phase 3 prep grade if you complete them. They will not be factored into your prep grade if you do not complete them.\n",
    "\n",
    "Using MATLAB/Octave for finding angles and magnitudes, manually calculate and plot the frequency responses of the following transfer functions at 100 logarithmically spaced frequencies between $0.1\\frac{rad}{s}$ and $500\\frac{rad}{s}$. Create this vector of frequencies using the command \"logspace(log10(minimum_freq),log10(maximum_freq),length).\" For each, plot the magnitude ratio of the response vs. frequency and the phase lag of the response vs. frequency. *Use a logarithmic  scale for both frequency and magnitude ratio* when plotting.\n",
    "\n",
    "Once you write your MATLAB/Octave code to calculate the magnitude and phase at any given value of $\\omega$, this should go very quickly! You do not need any hand calculations for this assignment.\n",
    "\n",
    "**Note: you may not use the 'bode' command for this assignment, unless it is used to check your work. It is meant to introduce you to frequency response, so it is important that you learn to produce frequency response plots using the magnitude and phase equations directly before moving to the 'easy tool' that hides the process.**"
   ]
  },
  {
   "cell_type": "markdown",
   "metadata": {
    "deletable": false,
    "editable": false,
    "nbgrader": {
     "cell_type": "markdown",
     "checksum": "f672c81afcc6455007fb762373bba39a",
     "grade": false,
     "grade_id": "cell-ad6e50549c76a071",
     "locked": true,
     "schema_version": 3,
     "solution": false
    }
   },
   "source": [
    "## Exercise 1\n",
    "\n",
    "$$P(s) = \\frac{1}{s+1}$$"
   ]
  },
  {
   "cell_type": "code",
   "execution_count": null,
   "metadata": {
    "ExecuteTime": {
     "end_time": "2017-11-07T21:02:04.526347Z",
     "start_time": "2017-11-07T21:02:03.013543Z"
    },
    "deletable": false,
    "nbgrader": {
     "cell_type": "code",
     "checksum": "de34555eb85f02155c1cd3f3bc72fede",
     "grade": true,
     "grade_id": "cell-d8fff7bddd1db46a",
     "locked": false,
     "points": 5,
     "schema_version": 3,
     "solution": true
    }
   },
   "outputs": [],
   "source": [
    "% YOUR CODE HERE\n",
    "error('No Answer Given!')"
   ]
  },
  {
   "cell_type": "markdown",
   "metadata": {
    "deletable": false,
    "editable": false,
    "nbgrader": {
     "cell_type": "markdown",
     "checksum": "ad048456d1bf523448a2ff44e03c7ada",
     "grade": false,
     "grade_id": "cell-28554e514a9e19bd",
     "locked": true,
     "schema_version": 3,
     "solution": false
    }
   },
   "source": [
    "## Exercise 2\n",
    "\n",
    "$$P(s) = \\frac{10}{s+1}$$"
   ]
  },
  {
   "cell_type": "code",
   "execution_count": null,
   "metadata": {
    "ExecuteTime": {
     "end_time": "2017-11-07T21:03:04.501382Z",
     "start_time": "2017-11-07T21:03:03.013357Z"
    },
    "deletable": false,
    "nbgrader": {
     "cell_type": "code",
     "checksum": "a26092b353a291e02dd928463bfed99f",
     "grade": true,
     "grade_id": "cell-034e623afc2372b6",
     "locked": false,
     "points": 5,
     "schema_version": 3,
     "solution": true
    }
   },
   "outputs": [],
   "source": [
    "% YOUR CODE HERE\n",
    "error('No Answer Given!')"
   ]
  },
  {
   "cell_type": "markdown",
   "metadata": {
    "deletable": false,
    "editable": false,
    "nbgrader": {
     "cell_type": "markdown",
     "checksum": "0895beefa485f4889a43acdb70138105",
     "grade": false,
     "grade_id": "cell-467783ac87fb7ad8",
     "locked": true,
     "schema_version": 3,
     "solution": false
    }
   },
   "source": [
    "## Exercise 3\n",
    "\n",
    "$$P(s) = \\frac{1}{s+100}$$"
   ]
  },
  {
   "cell_type": "code",
   "execution_count": null,
   "metadata": {
    "ExecuteTime": {
     "end_time": "2017-11-07T21:03:14.762732Z",
     "start_time": "2017-11-07T21:03:13.650703Z"
    },
    "deletable": false,
    "nbgrader": {
     "cell_type": "code",
     "checksum": "a4afdaab7ef07bce51e7e117b1eaa6f8",
     "grade": true,
     "grade_id": "cell-99df5f91d4bbd71f",
     "locked": false,
     "points": 5,
     "schema_version": 3,
     "solution": true
    }
   },
   "outputs": [],
   "source": [
    "% YOUR CODE HERE\n",
    "error('No Answer Given!')"
   ]
  },
  {
   "cell_type": "markdown",
   "metadata": {
    "deletable": false,
    "editable": false,
    "nbgrader": {
     "cell_type": "markdown",
     "checksum": "a7c6bf4a90459347be39966237a74c25",
     "grade": false,
     "grade_id": "cell-5e366c52fa34e51e",
     "locked": true,
     "schema_version": 3,
     "solution": false
    }
   },
   "source": [
    "## Exercise 4\n",
    "\n",
    "$$P(s) = \\frac{s+1}{s^2+5s+50}$$"
   ]
  },
  {
   "cell_type": "code",
   "execution_count": null,
   "metadata": {
    "ExecuteTime": {
     "end_time": "2017-11-07T21:03:33.944786Z",
     "start_time": "2017-11-07T21:03:32.546542Z"
    },
    "deletable": false,
    "nbgrader": {
     "cell_type": "code",
     "checksum": "6db8c1d180dd3fdf625db97b427fb08a",
     "grade": true,
     "grade_id": "cell-c09de86868cff722",
     "locked": false,
     "points": 5,
     "schema_version": 3,
     "solution": true
    }
   },
   "outputs": [],
   "source": [
    "% YOUR CODE HERE\n",
    "error('No Answer Given!')"
   ]
  },
  {
   "cell_type": "markdown",
   "metadata": {
    "deletable": false,
    "editable": false,
    "nbgrader": {
     "cell_type": "markdown",
     "checksum": "5b4bbfb46f0ff4bd9433a8a9eeded4b6",
     "grade": false,
     "grade_id": "cell-b8b754e14e1be609",
     "locked": true,
     "schema_version": 3,
     "solution": false
    }
   },
   "source": [
    "## Exercise 5\n",
    "\n",
    "Comment in the markdown cell below about your observations concerning the differences in the responses of each transfer function as a function of frequency. Comment specifically about what the magnitude and phase plot shapes mean.  Idenitfy under what conditions the response magnitude ratio is highest in terms of the steady state gain and/or eigenvalues of each system."
   ]
  },
  {
   "cell_type": "markdown",
   "metadata": {
    "deletable": false,
    "nbgrader": {
     "cell_type": "markdown",
     "checksum": "a219884d0dfe710c07626bd0eb40a3ab",
     "grade": true,
     "grade_id": "cell-41608be2bd93e6aa",
     "locked": false,
     "points": 5,
     "schema_version": 3,
     "solution": true,
     "task": false
    }
   },
   "source": [
    "YOUR ANSWER HERE"
   ]
  }
 ],
 "metadata": {
  "hide_input": false,
  "kernelspec": {
   "display_name": "Octave",
   "language": "octave",
   "name": "octave"
  },
  "language_info": {
   "file_extension": ".m",
   "help_links": [
    {
     "text": "GNU Octave",
     "url": "https://www.gnu.org/software/octave/support.html"
    },
    {
     "text": "Octave Kernel",
     "url": "https://github.com/Calysto/octave_kernel"
    },
    {
     "text": "MetaKernel Magics",
     "url": "https://metakernel.readthedocs.io/en/latest/source/README.html"
    }
   ],
   "mimetype": "text/x-octave",
   "name": "octave",
   "version": "4.2.2"
  },
  "nbTranslate": {
   "displayLangs": [
    "*"
   ],
   "hotkey": "alt-t",
   "langInMainMenu": true,
   "sourceLang": "en",
   "targetLang": "fr",
   "useGoogleTranslate": true
  },
  "toc": {
   "base_numbering": 1,
   "nav_menu": {
    "height": "30px",
    "width": "252px"
   },
   "number_sections": true,
   "sideBar": true,
   "skip_h1_title": false,
   "title_cell": "Table of Contents",
   "title_sidebar": "Contents",
   "toc_cell": true,
   "toc_position": {},
   "toc_section_display": "block",
   "toc_window_display": false
  },
  "varInspector": {
   "cols": {
    "lenName": 16,
    "lenType": 16,
    "lenVar": 40
   },
   "kernels_config": {
    "python": {
     "delete_cmd_postfix": "",
     "delete_cmd_prefix": "del ",
     "library": "var_list.py",
     "varRefreshCmd": "print(var_dic_list())"
    },
    "r": {
     "delete_cmd_postfix": ") ",
     "delete_cmd_prefix": "rm(",
     "library": "var_list.r",
     "varRefreshCmd": "cat(var_dic_list()) "
    }
   },
   "types_to_exclude": [
    "module",
    "function",
    "builtin_function_or_method",
    "instance",
    "_Feature"
   ],
   "window_display": false
  }
 },
 "nbformat": 4,
 "nbformat_minor": 2
}
