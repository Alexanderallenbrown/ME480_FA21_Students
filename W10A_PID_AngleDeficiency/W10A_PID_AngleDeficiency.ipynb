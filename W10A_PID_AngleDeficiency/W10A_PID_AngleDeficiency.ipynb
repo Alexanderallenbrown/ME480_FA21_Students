{
 "cells": [
  {
   "cell_type": "markdown",
   "metadata": {
    "toc": true
   },
   "source": [
    "<h1>Table of Contents<span class=\"tocSkip\"></span></h1>\n",
    "<div class=\"toc\"><ul class=\"toc-item\"><li><span><a href=\"#Challenge\" data-toc-modified-id=\"Challenge-1\"><span class=\"toc-item-num\">1&nbsp;&nbsp;</span>Challenge</a></span></li><li><span><a href=\"#Angle-Deficiency-Design-for-PID-Control\" data-toc-modified-id=\"Angle-Deficiency-Design-for-PID-Control-2\"><span class=\"toc-item-num\">2&nbsp;&nbsp;</span>Angle Deficiency Design for PID Control</a></span><ul class=\"toc-item\"><li><span><a href=\"#Example\" data-toc-modified-id=\"Example-2.1\"><span class=\"toc-item-num\">2.1&nbsp;&nbsp;</span>Example</a></span></li></ul></li><li><span><a href=\"#Exercise:-Due-Friday,-November-12-by-MIDNIGHT\" data-toc-modified-id=\"Exercise:-Due-Friday,-November-12-by-MIDNIGHT-3\"><span class=\"toc-item-num\">3&nbsp;&nbsp;</span>Exercise: Due Friday, November 12 by MIDNIGHT</a></span></li></ul></div>"
   ]
  },
  {
   "cell_type": "markdown",
   "metadata": {},
   "source": [
    "# Challenge\n",
    "\n",
    "In today's notebook, you will learn how you can gain more control over the branches of a higher-order system and still maintain zero steady state error in your control system by using Proportional-Integral-Derivative (PID) control.\n",
    "\n",
    "PID control adds TWO zeros to the forward path of our control system, rather than the single zero afforded by PD or PI. This means that it reduces our number of root locus asymptotes by 1 (like PD, but *unlike* PI), which is useful for limiting the possibility that our closed loop system could go unstable if the root locus gain K is turned up too high.\n",
    "\n",
    "There are many approaches for designing and tuning PID controllers that are used in industry. Some of these are almost entirely empirical and iterative (a popular example is the so-called \"Ziegler Nichols\" method), and some are model-based. In ME480, we will use the root locus as our primary design tool for PID controllers, which will help you develop good intuition and build a toolset that is rooted in model-based design."
   ]
  },
  {
   "cell_type": "markdown",
   "metadata": {
    "deletable": false,
    "editable": false,
    "nbgrader": {
     "cell_type": "markdown",
     "checksum": "50b518185d94ea52158df161aed5ac70",
     "grade": false,
     "grade_id": "cell-4a7a816202de412e",
     "locked": true,
     "schema_version": 3,
     "solution": false
    },
    "resourcetopic": "Feedback Control"
   },
   "source": [
    "# Angle Deficiency Design for PID Control\n",
    "\n",
    "The angle deficiency method is a simple, direct method for designing P, PI, and PD controllers for many types of systems you may encounter in industry or in graduate school. However, using all three terms in the canonical \"PID\" controller is also common. The PID controller, in its full form, has the following controller transfer function when a summing gain $K_{sum}$ is included:\n",
    "\n",
    "$$C(s) = K_{sum}\\left(K_p + K_ds + \\frac{K_i}{s}\\right)$$\n",
    "\n",
    "Factoring out a $\\frac{1}{s}$ yields:\n",
    "\n",
    "$$C(s) = \\frac{K_{sum}\\left(K_ds^2+ K_ps + K_i\\right)}{s}$$\n",
    "\n",
    "Factoring out $K_d$ to clear the term multiplied by the highest power of $s$ gives us:\n",
    "\n",
    "$$C(s) = \\frac{K_{sum}K_d\\left(s^2+ \\frac{K_p}{K_d}s + \\frac{K_i}{K_d}\\right)}{s}$$\n",
    "\n",
    "Assuming that we can factor the numerator of the control transfer function allows us to write it as follows:\n",
    "\n",
    "$$C(s) = K\\frac{(s+z_1)(s+z_2)}{s}$$\n",
    "\n",
    "Which tells us that the PID controller adds *two* zeros and one pole at $s=0$ to our \"open loop transfer function\" $G(s)H(s) = C^\\star P(s)H(s)$. These zeros could be either two distinct real numbers, two repeated zeros, or a complex conjugate pair, depending on the ratios $\\frac{k_i}{k_d}$ and $\\frac{k_p}{k_d}$.\n",
    "\n",
    "Why is this important? Well, for one thing, many systems (think third and higher order systems) are still at risk of eventually going unstable under PI control, especially at higher overall gains $K$, because the PI controller does *not* reduce the number of asymptotes on the root locus $a=n-m$, also called the *net order* of the closed loop system. PID control will reduce $a=n-m$ because of its second zero. In many cases, this will have the effect of *bending root locus branches to the left*, possibly keeping the system from going unstable at high gain. \n",
    "\n",
    "It is also common to develop a PD control system for a plant that does not inherently result in zero steady-state error. In this situation, adding an integral term to the PD controller can eliminate steady-state error, but the integral controller adds a pole at the origin to the open-loop transfer function and changes the shape of the root locus. In this type of design problem, PID design may be a good choice as well.\n",
    "\n",
    "While the addition of a second zero in $C(s)$ from a PID design can have very nice effects on our system performance and/or root locus shape, it does present design challenges. The two zeros $z_1$ and $z_2$ can be either two real numbers or a complex conjugate pair, and placing them adds another unknown to our design problem. This means that the one design equation we've been using, the angle criterion,\n",
    "\n",
    "$$\\angle \\left.G(s)H()s\\right|_{s=s_d}=\\pm 180^\\circ$$\n",
    "\n",
    "Is no longer enough to complete our design directly. We often will need to iterate on a PID design to achieve a balance between our performance goals and any other design constraints we may have. These often include, but are not limited to:\n",
    "\n",
    "1. Voltage limits for our control hardware\n",
    "2. A guarantee of stability for all root locus gains $K=K_{sum}K_d$\n",
    "\n",
    "The unfortunate thing is that there isn't a \"magic bullet\" for every design problem, even with the angle deficiency design methodology. You may have to try a design, check voltage limits, inspect your new root locus to determine if stability is guaranteed, and iterate. The fortunate thing is that your experience with root locus sketching and angle deficiency design should help you develop intuition for zero placement in controller design based on the root locus of the system you're trying to control. Developing this intuition is truly the goal of working with the concrete design tools we have. With solid intuition as a controls engineer, and solid tools to analyze and support your design, you will be able to solve many difficult control problems efficiently."
   ]
  },
  {
   "cell_type": "markdown",
   "metadata": {
    "deletable": false,
    "editable": false,
    "nbgrader": {
     "cell_type": "markdown",
     "checksum": "2b9e2174f5ba54930eba4fbb4a640c5b",
     "grade": false,
     "grade_id": "cell-b6d48a11a03b5e55",
     "locked": true,
     "schema_version": 3,
     "solution": false
    }
   },
   "source": [
    "## Example\n",
    "\n",
    "Say we want to control the following plant transfer function $P(s)$ with the following sensor transfer function $H(s)$. The sensor transfer function $H$ might represent a simple low-pass filter we use when measuring our system's output $y$.\n",
    "\n",
    "In designing a controller for this system, we wish to hit a design eigenvalue for the slowest branch of $s_d = -4.5+4j$."
   ]
  },
  {
   "cell_type": "markdown",
   "metadata": {
    "deletable": false,
    "editable": false,
    "nbgrader": {
     "cell_type": "markdown",
     "checksum": "c97954655138aeaac3ac4cb25fc536af",
     "grade": false,
     "grade_id": "cell-69397fd60bb25ff2",
     "locked": true,
     "schema_version": 3,
     "solution": false
    }
   },
   "source": [
    "<img src=\"data:image/png;base64,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\" style=\"cursor:pointer;max-width:100%;\" onclick=\"(function(img){if(img.wnd!=null&&!img.wnd.closed){img.wnd.focus();}else{var r=function(evt){if(evt.data=='ready'&&evt.source==img.wnd){img.wnd.postMessage(decodeURIComponent(img.getAttribute('src')),'*');window.removeEventListener('message',r);}};window.addEventListener('message',r);img.wnd=window.open('https://www.draw.io/?client=1&lightbox=1&edit=_blank');}})(this);\"/>"
   ]
  },
  {
   "cell_type": "markdown",
   "metadata": {
    "deletable": false,
    "editable": false,
    "nbgrader": {
     "cell_type": "markdown",
     "checksum": "3d9a74aeee70e0137516b92e9481e2b0",
     "grade": false,
     "grade_id": "cell-c9913f4948eebfd8",
     "locked": true,
     "schema_version": 3,
     "solution": false
    }
   },
   "source": [
    "Our first step, as usual, is to assume that we might be able to hit our desired pole location using a simple proportional controller, with $C(s) = K_p = K$. This sets us up to sketch a root locus with $G(s)H(s)=\\frac{250}{(s+10)(s+25)}$ as shown below. "
   ]
  },
  {
   "cell_type": "code",
   "execution_count": null,
   "metadata": {
    "ExecuteTime": {
     "end_time": "2017-11-01T01:32:39.600109Z",
     "start_time": "2017-11-01T01:32:28.682914Z"
    },
    "deletable": false,
    "editable": false,
    "init_cell": true,
    "nbgrader": {
     "cell_type": "code",
     "checksum": "d958bfdcd89ef663c051eb4933d6773d",
     "grade": false,
     "grade_id": "cell-765068c0fbd035a3",
     "locked": true,
     "schema_version": 3,
     "solution": false
    }
   },
   "outputs": [],
   "source": [
    "s = tf('s');\n",
    "sd = -4.5+4j;\n",
    "\n",
    "P = 10/(s+10);\n",
    "H = 25/(s+25);\n",
    "\n",
    "rlocus(P*H)\n",
    "hold on\n",
    "plot(real(sd),imag(sd),'r.','MarkerSize',20)"
   ]
  },
  {
   "cell_type": "markdown",
   "metadata": {
    "ExecuteTime": {
     "end_time": "2017-10-29T22:13:38.237242Z",
     "start_time": "2017-10-29T22:13:38.207583Z"
    },
    "deletable": false,
    "editable": false,
    "nbgrader": {
     "cell_type": "markdown",
     "checksum": "156eab93703ac1ef2b064c49938b11e9",
     "grade": false,
     "grade_id": "cell-51f1b88e5c703711",
     "locked": true,
     "schema_version": 3,
     "solution": false
    }
   },
   "source": [
    "As you can see, our desired pole location lies to the right of our slowest root locus branch. This should be a big hint to try a PI controller first. Just to confirm that the \"angle deficiency\" $\\alpha = 180-\\angle\\left. (G(s)H(s))\\right|_{s_d}$ is negative, let's compute it. We've done this plenty of times by hand this semester, so let's use MATLAB to do the heavy lifting instead."
   ]
  },
  {
   "cell_type": "code",
   "execution_count": null,
   "metadata": {
    "ExecuteTime": {
     "end_time": "2017-11-01T01:41:06.453187Z",
     "start_time": "2017-11-01T01:41:06.365413Z"
    },
    "deletable": false,
    "editable": false,
    "init_cell": true,
    "nbgrader": {
     "cell_type": "code",
     "checksum": "08c52f44b026eee892060c5125745a52",
     "grade": false,
     "grade_id": "cell-4b87ed3cfd504949",
     "locked": true,
     "schema_version": 3,
     "solution": false
    }
   },
   "outputs": [],
   "source": [
    "%find the numerator and denominator coefficients of our root locus \"open loop\" TF\n",
    "[num_ph,den_ph] = tfdata(P*H,'v');\n",
    "%find the poles of the open loop tf for p-control\n",
    "poles_PH = roots(den_ph);\n",
    "%there are two of these poles... so let's use them to calculate the angles for the angle deficiency method.\n",
    "%remember that the angle from a pole to a point sd is the same as saying angle(sd+p), where the pole is at -p.\n",
    "ang_p1 = atan2d(imag(sd)-imag(poles_PH(1)),real(sd)-real(poles_PH(1)))\n",
    "ang_p2 = atan2d(imag(sd)-imag(poles_PH(2)),real(sd)-real(poles_PH(2)))\n",
    "alpha = 180-(0-ang_p1-ang_p2)-360"
   ]
  },
  {
   "cell_type": "markdown",
   "metadata": {
    "deletable": false,
    "editable": false,
    "nbgrader": {
     "cell_type": "markdown",
     "checksum": "e47a526eb8c0ba6c943cf826681934a7",
     "grade": false,
     "grade_id": "cell-b5f7fe842d5189c5",
     "locked": true,
     "schema_version": 3,
     "solution": false
    }
   },
   "source": [
    "This calculation has confirmed for us that we have a \"negative angle deficiency,\" which means we should attempt a PI control design with the following block diagram representation:"
   ]
  },
  {
   "cell_type": "markdown",
   "metadata": {
    "deletable": false,
    "editable": false,
    "nbgrader": {
     "cell_type": "markdown",
     "checksum": "57217aa5c8384f3616836a7396f6232b",
     "grade": false,
     "grade_id": "cell-b8ef4a406bd1b496",
     "locked": true,
     "schema_version": 3,
     "solution": false
    }
   },
   "source": [
    "<img src=\"data:image/png;base64,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\" style=\"cursor:pointer;max-width:100%;\" onclick=\"(function(img){if(img.wnd!=null&&!img.wnd.closed){img.wnd.focus();}else{var r=function(evt){if(evt.data=='ready'&&evt.source==img.wnd){img.wnd.postMessage(decodeURIComponent(img.getAttribute('src')),'*');window.removeEventListener('message',r);}};window.addEventListener('message',r);img.wnd=window.open('https://www.draw.io/?client=1&lightbox=1&edit=_blank');}})(this);\"/>"
   ]
  },
  {
   "cell_type": "markdown",
   "metadata": {
    "deletable": false,
    "editable": false,
    "nbgrader": {
     "cell_type": "markdown",
     "checksum": "4f4071bd87b3233f30933957d2bfcccc",
     "grade": false,
     "grade_id": "cell-ad4ebd2e0b482927",
     "locked": true,
     "schema_version": 3,
     "solution": false
    }
   },
   "source": [
    "In this diagram, $C(s) = K_{sum}(K_p+\\frac{K_i}{s})$, and we can factor out $K_p$ to obtain $C^\\star=\\frac{s+z}{s}$ and $K=K_pK_{sum}$ ($K_{sum}$ will be set to 1 for this example). We'll once again use MATLAB to help us get the angles for the angle deficiency calculation. For more details on this process, please see the \"angle deficiency design intro\" notebook. Note that you will need to be proficient in performing this design process without MATLAB for the exam, so use this as an opportunity to practice, rather than just \"believing\" the angles MATLAB gives us!"
   ]
  },
  {
   "cell_type": "code",
   "execution_count": null,
   "metadata": {
    "ExecuteTime": {
     "end_time": "2017-11-01T01:51:18.443260Z",
     "start_time": "2017-11-01T01:51:18.406548Z"
    },
    "deletable": false,
    "editable": false,
    "init_cell": true,
    "nbgrader": {
     "cell_type": "code",
     "checksum": "47953e205d72a3c28edc3694c0129dce",
     "grade": false,
     "grade_id": "cell-60176b9ff62082aa",
     "locked": true,
     "schema_version": 3,
     "solution": false
    }
   },
   "outputs": [],
   "source": [
    "%find the angle from the new pole at 0 to the desired pole location:\n",
    "ang_p3 = atan2d(imag(sd),real(sd))\n",
    "\n",
    "%now find the angle from our controller zero to our desired pole location using the angle criterion.\n",
    "alphaz_PI = 180+ang_p1+ang_p2+ang_p3\n",
    "\n",
    "%now use this angle to find the horizontal (real) distance from our pole to the new zero\n",
    "L_PI = imag(sd)/tand(alphaz_PI);\n",
    "z_PI = abs(real(sd)-L_PI)"
   ]
  },
  {
   "cell_type": "markdown",
   "metadata": {
    "deletable": false,
    "editable": false,
    "nbgrader": {
     "cell_type": "markdown",
     "checksum": "ff5d229ecb9162f1fba8157334c05328",
     "grade": false,
     "grade_id": "cell-fd4545a24de999ea",
     "locked": true,
     "schema_version": 3,
     "solution": false
    }
   },
   "source": [
    "Let's use this opportunity to make sure that our zero location was placed properly. Let's look at the root locus to make sure it passes through the desired pole location $s_d$."
   ]
  },
  {
   "cell_type": "code",
   "execution_count": null,
   "metadata": {
    "ExecuteTime": {
     "end_time": "2017-11-01T01:54:35.007989Z",
     "start_time": "2017-11-01T01:54:32.800118Z"
    },
    "deletable": false,
    "editable": false,
    "init_cell": true,
    "nbgrader": {
     "cell_type": "code",
     "checksum": "12cb14811ce4c0b12f2f1233fbfedf1b",
     "grade": false,
     "grade_id": "cell-4d4e0e4a63888e12",
     "locked": true,
     "schema_version": 3,
     "solution": false
    }
   },
   "outputs": [],
   "source": [
    "%for our PI system, GH or the \"open loop TF\" is Cstar*P*H\n",
    "Cstar = (s+z_PI)/s;\n",
    "rlocus(Cstar*P*H)\n",
    "hold  on\n",
    "plot(real(sd),imag(sd),'r.','MarkerSize',10)"
   ]
  },
  {
   "cell_type": "markdown",
   "metadata": {
    "deletable": false,
    "editable": false,
    "nbgrader": {
     "cell_type": "markdown",
     "checksum": "8835b4111531dac6b0209eea8e6253e1",
     "grade": false,
     "grade_id": "cell-34eac05ec686c34f",
     "locked": true,
     "schema_version": 3,
     "solution": false
    }
   },
   "source": [
    "It looks like we're in good shape. But there's a problem! At sufficiently high gain, our system goes unstable!! This is going to be our motivation for a PID design. Adding a second zero will allow us to \"pull the branches around\" so that they rejoin the real axis, leaving us with only one root locus asymptote at $\\pi$ radians. \n",
    "\n",
    "But before we go down that path, let's finish the PI design. We can use the magnitude criterion and the zero location to find our control gains. "
   ]
  },
  {
   "cell_type": "code",
   "execution_count": null,
   "metadata": {
    "ExecuteTime": {
     "end_time": "2017-11-01T01:58:40.864126Z",
     "start_time": "2017-11-01T01:58:40.842588Z"
    },
    "deletable": false,
    "editable": false,
    "init_cell": true,
    "nbgrader": {
     "cell_type": "code",
     "checksum": "39cec395c7eae032c9b401afa5e219ce",
     "grade": false,
     "grade_id": "cell-21184cb5aaaea304",
     "locked": true,
     "schema_version": 3,
     "solution": false
    }
   },
   "outputs": [],
   "source": [
    "%find the root locus gain K using magnitude criterion\n",
    "mag_GH_at_sd = abs(250*(sd+z_PI)/(sd*(sd+10)*(sd+25)))\n",
    "K = 1/(mag_GH_at_sd)\n",
    "Ksum=1;\n",
    "%kp*ksum = K\n",
    "Kp = K/Ksum\n",
    "%z = Ki/Kp\n",
    "Ki = z_PI*Kp"
   ]
  },
  {
   "cell_type": "markdown",
   "metadata": {
    "deletable": false,
    "editable": false,
    "nbgrader": {
     "cell_type": "markdown",
     "checksum": "7312a37e9ed8582a2fd5d3741b17009f",
     "grade": false,
     "grade_id": "cell-fd273185c65adceb",
     "locked": true,
     "schema_version": 3,
     "solution": false
    }
   },
   "source": [
    "The final step in finishing our PI design is to simulate its behavior. We'll also print the closed-loop eigenvalues of our system to make sure that one of them is $s_d$."
   ]
  },
  {
   "cell_type": "code",
   "execution_count": null,
   "metadata": {
    "ExecuteTime": {
     "end_time": "2017-11-01T02:04:59.648847Z",
     "start_time": "2017-11-01T02:04:56.559915Z"
    },
    "deletable": false,
    "editable": false,
    "init_cell": true,
    "nbgrader": {
     "cell_type": "code",
     "checksum": "5a2ba9b9fbacc512a0b18beccb0ef2ca",
     "grade": false,
     "grade_id": "cell-d7cad4dfc10b7585",
     "locked": true,
     "schema_version": 3,
     "solution": false
    }
   },
   "outputs": [],
   "source": [
    "%build 'real' version of the control TF so that we can confirm we got the gains right.\n",
    "C = Ksum*(Kp+Ki/s);\n",
    "%find closed loop TF y/r\n",
    "Gcl_PI = minreal(C*P/(1+C*P*H))\n",
    "%pull out numerator and denominator coeffs\n",
    "[num_cl_pi,den_cl_pi] = tfdata(Gcl_PI,'v');\n",
    "%find eigs\n",
    "eigs_closedloop_pi = roots(den_cl_pi)\n",
    "%now simulate our system's response (y) to a unit step request (r)\n",
    "step(Gcl_PI)"
   ]
  },
  {
   "cell_type": "markdown",
   "metadata": {
    "deletable": false,
    "editable": false,
    "nbgrader": {
     "cell_type": "markdown",
     "checksum": "61bb4e7f4dcaf5547bab18b76a9073ce",
     "grade": false,
     "grade_id": "cell-fd80d6aa3a2355df",
     "locked": true,
     "schema_version": 3,
     "solution": false
    }
   },
   "source": [
    "So our response looks great, but the problem is that as we increase our summing gain $K_{sum}$, perhaps in an attempt to speed the system up, we \"walk along the locus\" towards instability. So, we'll attempt to use a PID control's advantage of a second, independent zero to help us out. From above, recall that the PID controller can be written:\n",
    "\n",
    "$$C(s) = K_{sum}\\left(K_p + K_ds + \\frac{K_i}{s}\\right)=\\frac{K_{sum}K_d\\left(s^2+ \\frac{K_p}{K_d}s + \\frac{K_i}{K_d}\\right)}{s}=K\\frac{(s+z_1)(s+z_2)}{s}$$\n",
    "\n",
    "So we have the option of placing two real zeros or two complex conjugate zeros. We also have to update our \"open loop transfer function\" for the root locus according to the following block diagram:"
   ]
  },
  {
   "cell_type": "markdown",
   "metadata": {
    "deletable": false,
    "editable": false,
    "nbgrader": {
     "cell_type": "markdown",
     "checksum": "31062544046f17556d29cff784c01b19",
     "grade": false,
     "grade_id": "cell-3f86ee61431d29e4",
     "locked": true,
     "schema_version": 3,
     "solution": false
    }
   },
   "source": [
    "<img src=\"data:image/png;base64,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\" style=\"cursor:pointer;max-width:100%;\" onclick=\"(function(img){if(img.wnd!=null&&!img.wnd.closed){img.wnd.focus();}else{var r=function(evt){if(evt.data=='ready'&&evt.source==img.wnd){img.wnd.postMessage(decodeURIComponent(img.getAttribute('src')),'*');window.removeEventListener('message',r);}};window.addEventListener('message',r);img.wnd=window.open('https://www.draw.io/?client=1&lightbox=1&edit=_blank');}})(this);\"/>"
   ]
  },
  {
   "cell_type": "markdown",
   "metadata": {
    "deletable": false,
    "editable": false,
    "nbgrader": {
     "cell_type": "markdown",
     "checksum": "f67525ced738470049e324bc323c673d",
     "grade": false,
     "grade_id": "cell-3ef9110928f81710",
     "locked": true,
     "schema_version": 3,
     "solution": false
    }
   },
   "source": [
    "So now, we will be working with the root locus of: \n",
    "$$G(s)H(s) = C^\\star(s)P(s)H(s)= \\frac{250(s+z_1)(s+z_2)}{s(s+10)(s+25)}$$\n",
    "\n",
    "And we'll have to somehow place both zeros $z_1$ and Z_2$. Let's use MATLAB to explore the following options:\n",
    "\n",
    "1. Place two real zeros\n",
    "2. Place two complex conjugate zeros\n",
    "\n",
    "We'll just use MATLAB to see what consequences each of these options might have for our system. Once we decide what option is best for us, we'll use the angle deficiency criterion again (with an additional constraint) to make sure we hit our desired eigenvalue $s_d$. First, let's explore option 1, where we will place two "
   ]
  },
  {
   "cell_type": "code",
   "execution_count": null,
   "metadata": {
    "ExecuteTime": {
     "end_time": "2017-11-01T02:23:04.804108Z",
     "start_time": "2017-11-01T02:23:02.014731Z"
    },
    "deletable": false,
    "editable": false,
    "init_cell": true,
    "nbgrader": {
     "cell_type": "code",
     "checksum": "530b1a695f224e66e709855ca3199d21",
     "grade": false,
     "grade_id": "cell-7c506b50015ddca3",
     "locked": true,
     "schema_version": 3,
     "solution": false
    }
   },
   "outputs": [],
   "source": [
    "%let's use a constant zero separation of 5 so z2 = z1+5 to place two real zeros in different spots.\n",
    "figure()\n",
    "hold on\n",
    "for k=1:5\n",
    "%guess at zero locations\n",
    "z1 = k*15;\n",
    "z2 = z1+5;\n",
    "%find our root locus for this configuration\n",
    "Cstar_PID = ((s+z1)*(s+z2))/s;\n",
    "GH_PID = Cstar_PID*P*H;\n",
    "rlocus(GH_PID)\n",
    "end\n",
    "    "
   ]
  },
  {
   "cell_type": "markdown",
   "metadata": {
    "deletable": false,
    "editable": false,
    "nbgrader": {
     "cell_type": "markdown",
     "checksum": "f6eb072045937883d0d0f81e9726d144",
     "grade": false,
     "grade_id": "cell-86070cadf584216f",
     "locked": true,
     "schema_version": 3,
     "solution": false
    }
   },
   "source": [
    "As you can see, by placing the control zeros close to one another, we cause the root locus to \"loop\" because of the reduction in the \"net order\" or number of asymptotes $a=n-m$ for our system.  We can also see that even for large zeros, the system appears \"safe\" from going unstable. For any of the zero locations we tried, we can confirm whether the system goes unstable without the help of MATLAB by attempting to solve for the system's crossing frequency and critical gain.\n",
    "\n",
    "So what about option 2? What happens if we place two complex conjugate zeros with a varying \"real\" component and some known damping ratio?"
   ]
  },
  {
   "cell_type": "code",
   "execution_count": null,
   "metadata": {
    "ExecuteTime": {
     "end_time": "2017-11-01T02:26:12.824142Z",
     "start_time": "2017-11-01T02:26:08.467342Z"
    },
    "deletable": false,
    "editable": false,
    "init_cell": true,
    "nbgrader": {
     "cell_type": "code",
     "checksum": "f6d7cccabf04dcb95d9a78e87260e1b9",
     "grade": false,
     "grade_id": "cell-2d26378ad4e510c6",
     "locked": true,
     "schema_version": 3,
     "solution": false
    }
   },
   "outputs": [],
   "source": [
    "%let's use a constant zero separation of 5 so z2 = z1+5 to place two real zeros in different spots.\n",
    "%for the complex conjugate zeros, let's make them have a damping ratio of 0.707 so the real and imaginary compoenents are the same.\n",
    "figure()\n",
    "hold on\n",
    "for k=1:5\n",
    "%guess at zero locations\n",
    "z1 = k*15+k*15*j;\n",
    "z2 = k*15-k*15*j;\n",
    "% Cstar_PID = ((s+z1)*(s+z2))/s\n",
    "Cstar_PID = 1/s*(s^2+(z1+z2)*s+z1*z2)\n",
    "GH_PID = Cstar_PID*P*H;\n",
    "rlocus(GH_PID)\n",
    "end"
   ]
  },
  {
   "cell_type": "markdown",
   "metadata": {
    "deletable": false,
    "editable": false,
    "nbgrader": {
     "cell_type": "markdown",
     "checksum": "92700138cc3a78aa139f22b9a40c5b29",
     "grade": false,
     "grade_id": "cell-b06b8b0eca1c3a09",
     "locked": true,
     "schema_version": 3,
     "solution": false
    }
   },
   "source": [
    "As you can see, the story here is a little different. If we place \"fast\" zeros that are complex, even though the  real components of the two zeros are approximately the same as they were for our \"test\" zeros, the closed-loop system appears to bend into the unstable region more quickly. Be careful reading into this too much... the story may be different for a different configuration of $G(s)H(s)$, so it is a good idea to take PID designs on a case-by-case basis, and think critically about the consequences of your design decisions on the root locus. \n",
    "\n",
    "For our example, it looks like two real zeros is the way to go. But we still have to place them! For simplicity, let's choose two real zeros that are *at the same location*, so that each of their angles, $\\alpha_{z1}$ and $\\alpha_{z2}$ are the same. This makes the angle criterion equation easy to use to solve for both angles simultaneously:\n",
    "\n",
    "$$\\left.\\angle(G(s)H(s)\\right|_{s_d} = \\pm 180^\\circ = \\alpha_{z1}+\\alpha_{z2}-\\angle(p1\\rightarrow s_d)-\\angle(p2\\rightarrow s_d)-\\angle(p3\\rightarrow s_d)$$\n",
    "\n",
    "Because $\\alpha_{z1}=\\alpha_{z2}$, it should be easy to solve for each angle using MATLAB."
   ]
  },
  {
   "cell_type": "code",
   "execution_count": null,
   "metadata": {
    "ExecuteTime": {
     "end_time": "2017-11-01T02:41:25.098221Z",
     "start_time": "2017-11-01T02:41:23.337896Z"
    },
    "deletable": false,
    "editable": false,
    "init_cell": true,
    "nbgrader": {
     "cell_type": "code",
     "checksum": "f447eff6fb7c6c6ba14c4c7c59525db2",
     "grade": false,
     "grade_id": "cell-c419bb375d0f8d2e",
     "locked": true,
     "schema_version": 3,
     "solution": false
    }
   },
   "outputs": [],
   "source": [
    "%now find the angle from our controller zero to our desired pole location using the angle criterion.\n",
    "alphaz_PID = 0.5*(-180+ang_p1+ang_p2+ang_p3)\n",
    "\n",
    "%now use this angle to find the horizontal (real) distance from our pole to the new zero\n",
    "L_PID = imag(sd)/tand(alphaz_PID);\n",
    "z_PID = abs(real(sd)-L_PID)\n",
    "\n",
    "%now confirm that our root locus hits our desired point and does not go unstable\n",
    "rlocus((s+z_PID)^2/s*P*H,.001,0,10)\n",
    "hold on\n",
    "plot(real(sd),imag(sd),'r.','MarkerSize',20)\n",
    "axis([-50 50 -50 50])"
   ]
  },
  {
   "cell_type": "markdown",
   "metadata": {
    "deletable": false,
    "editable": false,
    "nbgrader": {
     "cell_type": "markdown",
     "checksum": "b2b6a0b05b047e1fd6807bf3a9c5f2ad",
     "grade": false,
     "grade_id": "cell-acc4ada5c876164e",
     "locked": true,
     "schema_version": 3,
     "solution": false
    }
   },
   "source": [
    "Now that we have a location for our zeros $z_1$ and $z_2$, and confirmed that this design hits our desired point (and satisfies our other criterion of never going unstable), we can use the controller transfer function to find our gains. The relationship between our zero locations and our gains is given by equating coefficients in the two forms of the controller transfer function:\n",
    "\n",
    "\n",
    "$$C(s) = \\frac{K_{sum}K_d\\left(s^2+ \\frac{K_p}{K_d}s + \\frac{K_i}{K_d}\\right)}{s}=K\\frac{s^2+(z_1+z_2)s+z_1z_2}{s}$$\n",
    "\n",
    "So for us, we find that:\n",
    "\n",
    "$$K={K_d}{K_{sum}}$$\n",
    "\n",
    "where $K$ comes from the magnitude criterion. Additionally, equating coefficients tells us:\n",
    "\n",
    "$$\\frac{K_p}{K_d} = (z_1+z_2) = 2z$$\n",
    "\n",
    "and also that:\n",
    "\n",
    "$$\\frac{K_i}{K_d} = z_1z_2 = z^2$$\n",
    "\n",
    "for our system, where we decided to place $z_1$ and $z_2$ at the same location on the real axis. Now, we can use MATLAB to come up with our controller gains $K_p,K_i,K_d$."
   ]
  },
  {
   "cell_type": "code",
   "execution_count": null,
   "metadata": {
    "ExecuteTime": {
     "end_time": "2017-11-01T02:43:23.218820Z",
     "start_time": "2017-11-01T02:43:23.182322Z"
    },
    "deletable": false,
    "editable": false,
    "init_cell": true,
    "nbgrader": {
     "cell_type": "code",
     "checksum": "85d29a1fc1424bb3c3bd2701de529aff",
     "grade": false,
     "grade_id": "cell-eb12afd24ee991f3",
     "locked": true,
     "schema_version": 3,
     "solution": false
    }
   },
   "outputs": [],
   "source": [
    "mag_GH_PID = abs(250*((sd+z_PID)^2)/(sd*(sd+10)*(sd+25)))\n",
    "K_PID = 1/mag_GH_PID;\n",
    "Ksum_PID = 1.0;\n",
    "Kd_PID = K_PID/Ksum_PID\n",
    "Kp_PID = 2*z_PID*Kd_PID\n",
    "Ki_PID = z_PID^2*Kd_PID"
   ]
  },
  {
   "cell_type": "markdown",
   "metadata": {
    "deletable": false,
    "editable": false,
    "nbgrader": {
     "cell_type": "markdown",
     "checksum": "b47017a4ec9758b8da62c6ab2a58ffcd",
     "grade": false,
     "grade_id": "cell-eb47660a5ba8784f",
     "locked": true,
     "schema_version": 3,
     "solution": false
    }
   },
   "source": [
    "Take a moment to compare these numbers to what we had before with PI control. They're very, very similar. $K_d$, the \"new\" derivative gain, is very small. We added \"a little bit\" of derivative control to prevent the system from going unstable, and adjusted the other two gains slightly to ensure that we still nailed our desired closed loop pole $s_d$. Let's see how the system performs, and compare its performance to our PI controller. We expect very similar results because the systems have the same \"slowest branch\" eigenvalue, but the differences in zeros may cause the closed loop behavior to differ slightly."
   ]
  },
  {
   "cell_type": "code",
   "execution_count": null,
   "metadata": {
    "ExecuteTime": {
     "end_time": "2017-11-01T02:47:36.444847Z",
     "start_time": "2017-11-01T02:47:30.049989Z"
    },
    "deletable": false,
    "editable": false,
    "init_cell": true,
    "nbgrader": {
     "cell_type": "code",
     "checksum": "52d53a77f678b3eeb501a761e26a4292",
     "grade": false,
     "grade_id": "cell-c56e6e3bfb5df5d2",
     "locked": true,
     "schema_version": 3,
     "solution": false
    }
   },
   "outputs": [],
   "source": [
    "C_PID = Ksum_PID*(Kp_PID+Kd_PID*s+Ki_PID/s);\n",
    "Gcl_PID = minreal(C_PID*P/(1+C_PID*P*H))\n",
    "\n",
    "%pull out numerator and denominator coeffs\n",
    "[num_cl_pid,den_cl_pid] = tfdata(Gcl_PID,'v');\n",
    "%find eigs\n",
    "eigs_closedloop_pid = roots(den_cl_pid)\n",
    "%now simulate our system's response (y) to a unit step request (r). Also simulate for PI to compare\n",
    "step(Gcl_PID,Gcl_PI)\n",
    "legend('PID Control','PI Control')"
   ]
  },
  {
   "cell_type": "markdown",
   "metadata": {
    "deletable": false,
    "editable": false,
    "nbgrader": {
     "cell_type": "markdown",
     "checksum": "c7a585bc01825269ac089bba572441df",
     "grade": false,
     "grade_id": "cell-4053bf9c89453488",
     "locked": true,
     "schema_version": 3,
     "solution": false
    }
   },
   "source": [
    "As you can see, the two systems respond almost identically, which is great! The PID control system just gives us the added benefit of \"safety\" when the summing gain $K_{sum}$ is turned up, or when some other gain factor in the system varies from our design value, because we know that if our model is good, the system will not go unstable under PID control.\n",
    "\n",
    "**NOTE**: Keep in mind that even with PID control, our system actually gets pretty close to going unstable. Think about what we might do to keep this from happening. Based on what you saw in the \"exploratory\" zero placement blocks above, what could you do to make sure that the system stayed farther away from the right half of the s-plane?"
   ]
  },
  {
   "cell_type": "markdown",
   "metadata": {
    "deletable": false,
    "editable": false,
    "nbgrader": {
     "cell_type": "markdown",
     "checksum": "6fa7aee9d0117c25632014eceedad2f1",
     "grade": false,
     "grade_id": "cell-1d9e0b09da0c150e",
     "locked": true,
     "schema_version": 3,
     "solution": false
    }
   },
   "source": [
    "# Exercise: Due Friday, November 12 by MIDNIGHT\n",
    "\n",
    "Using any combination of techniques, including \"exploratory\" zero placement using MATLAB and/or the angle deficiency design method, place a pair of zeros and then design a PID controller for a system with a plant transfer function:\n",
    "\n",
    "$$P(s) = \\frac{100}{s^2+10s+50}$$\n",
    "\n",
    "Additionally, this system has a filter $H(s) = \\frac{25}{s+25}$ in its feedbck path to help with sensor noise. \n",
    "\n",
    "You want to ensure that the system has 0 steady state error in response to a step input in reference input $r(s)$. You also want to ensure that the system's root locus can *never* go unstable, even if your overall root locus gain changes. You also want to achieve a settling time of no more than 2 seconds. The damping ratio of the system's dominant oscillatory branches is up to you. Choose wisely.\n",
    "\n",
    "**Deliverables**\n",
    "\n",
    "* Provide any hand-calculations in the markdown cell below as you develop your controller. \n",
    "* Provide all work for determining gains $K_p,K_i,K_d$.\n",
    "* Provide a closed-loop step response showing that the controller meets the design criteria\n",
    "* Provide all of the system's closed-loop eigenvalues (not just one of them, such as $s_d$).\n",
    "* Using the locations of all of the system's eigenvalues under the direction of your controller, and using the closed loop step response, discuss any pros/cons of your design in terms of the system's closed-loop behavior."
   ]
  },
  {
   "cell_type": "markdown",
   "metadata": {
    "deletable": false,
    "nbgrader": {
     "cell_type": "markdown",
     "checksum": "b514f0bbf93498291f0b2b6176b28c54",
     "grade": true,
     "grade_id": "cell-1efcf65b977ef706",
     "locked": false,
     "points": 10,
     "schema_version": 3,
     "solution": true
    }
   },
   "source": [
    "YOUR ANSWER HERE"
   ]
  },
  {
   "cell_type": "code",
   "execution_count": null,
   "metadata": {
    "deletable": false,
    "nbgrader": {
     "cell_type": "code",
     "checksum": "1c855dafb70b18bdb4cf486404c45e43",
     "grade": true,
     "grade_id": "cell-d5c40dd5fc2e9b2a",
     "locked": false,
     "points": 0,
     "schema_version": 3,
     "solution": true
    }
   },
   "outputs": [],
   "source": [
    "% YOUR CODE HERE\n",
    "error('No Answer Given!')"
   ]
  },
  {
   "cell_type": "markdown",
   "metadata": {},
   "source": [
    "**Discussion**"
   ]
  },
  {
   "cell_type": "code",
   "execution_count": null,
   "metadata": {
    "deletable": false,
    "nbgrader": {
     "cell_type": "code",
     "checksum": "7336bcc82d4601394a1f544d3e791a48",
     "grade": true,
     "grade_id": "cell-d72d051d02e6ce42",
     "locked": false,
     "points": 5,
     "schema_version": 3,
     "solution": true,
     "task": false
    }
   },
   "outputs": [],
   "source": [
    "% YOUR CODE HERE\n",
    "error('No Answer Given!')"
   ]
  }
 ],
 "metadata": {
  "kernelspec": {
   "display_name": "Octave",
   "language": "octave",
   "name": "octave"
  },
  "language_info": {
   "file_extension": ".m",
   "help_links": [
    {
     "text": "GNU Octave",
     "url": "https://www.gnu.org/software/octave/support.html"
    },
    {
     "text": "Octave Kernel",
     "url": "https://github.com/Calysto/octave_kernel"
    },
    {
     "text": "MetaKernel Magics",
     "url": "https://metakernel.readthedocs.io/en/latest/source/README.html"
    }
   ],
   "mimetype": "text/x-octave",
   "name": "octave",
   "version": "4.2.2"
  },
  "toc": {
   "base_numbering": 1,
   "nav_menu": {},
   "number_sections": true,
   "sideBar": true,
   "skip_h1_title": false,
   "title_cell": "Table of Contents",
   "title_sidebar": "Contents",
   "toc_cell": true,
   "toc_position": {},
   "toc_section_display": true,
   "toc_window_display": false
  }
 },
 "nbformat": 4,
 "nbformat_minor": 4
}
