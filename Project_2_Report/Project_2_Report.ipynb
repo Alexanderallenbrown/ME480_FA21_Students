{
 "cells": [
  {
   "cell_type": "markdown",
   "metadata": {
    "deletable": false,
    "editable": false,
    "nbgrader": {
     "cell_type": "markdown",
     "checksum": "ada1a00c850be2a8b3182e02a086b75f",
     "grade": false,
     "grade_id": "cell-8da958b2fe8facc5",
     "locked": true,
     "schema_version": 3,
     "solution": false,
     "task": false
    },
    "toc": true
   },
   "source": [
    "<h1>Table of Contents<span class=\"tocSkip\"></span></h1>\n",
    "<div class=\"toc\"><ul class=\"toc-item\"><li><span><a href=\"#Finite-State-Machine-Design\" data-toc-modified-id=\"Finite-State-Machine-Design-1\"><span class=\"toc-item-num\">1&nbsp;&nbsp;</span>Finite State Machine Design</a></span></li><li><span><a href=\"#Model-Development-&amp;-Validation\" data-toc-modified-id=\"Model-Development-&amp;-Validation-2\"><span class=\"toc-item-num\">2&nbsp;&nbsp;</span>Model Development &amp; Validation</a></span></li><li><span><a href=\"#Controller-Design\" data-toc-modified-id=\"Controller-Design-3\"><span class=\"toc-item-num\">3&nbsp;&nbsp;</span>Controller Design</a></span></li><li><span><a href=\"#Controller-Validation\" data-toc-modified-id=\"Controller-Validation-4\"><span class=\"toc-item-num\">4&nbsp;&nbsp;</span>Controller Validation</a></span></li><li><span><a href=\"#Demonstration-Day-Performance-Assessment\" data-toc-modified-id=\"Demonstration-Day-Performance-Assessment-5\"><span class=\"toc-item-num\">5&nbsp;&nbsp;</span>Demonstration Day Performance Assessment</a></span></li><li><span><a href=\"#Next-Steps\" data-toc-modified-id=\"Next-Steps-6\"><span class=\"toc-item-num\">6&nbsp;&nbsp;</span>Next Steps</a></span></li></ul></div>"
   ]
  },
  {
   "cell_type": "markdown",
   "metadata": {
    "deletable": false,
    "editable": false,
    "nbgrader": {
     "cell_type": "markdown",
     "checksum": "d7a82919cc9b52ec72ea441b5de6afe4",
     "grade": false,
     "grade_id": "cell-704dd299daf0701d",
     "locked": true,
     "schema_version": 3,
     "solution": false,
     "task": false
    }
   },
   "source": [
    "## Finite State Machine Design\n",
    "* State transition diagram and table"
   ]
  },
  {
   "cell_type": "markdown",
   "metadata": {
    "deletable": false,
    "nbgrader": {
     "cell_type": "markdown",
     "checksum": "b4453c975fc4c5e7d6bbaa41b1e60d1c",
     "grade": true,
     "grade_id": "cell-6f97260ecb3a815e",
     "locked": false,
     "points": 15,
     "schema_version": 3,
     "solution": true,
     "task": false
    }
   },
   "source": [
    "YOUR ANSWER HERE"
   ]
  },
  {
   "cell_type": "markdown",
   "metadata": {
    "deletable": false,
    "editable": false,
    "nbgrader": {
     "cell_type": "markdown",
     "checksum": "d748cf85790b692cd76ac40e975fd2b6",
     "grade": false,
     "grade_id": "cell-0f019c83cbca8c95",
     "locked": true,
     "schema_version": 3,
     "solution": false,
     "task": false
    }
   },
   "source": [
    "## Model Development & Validation\n",
    "* Assumptions and Justification for all modeling choices.\n",
    "* Plant validation plots (include in live code cell).  Use clear titles and labels to explain plots.  When information needs explanation, include in a markdown cell.\n",
    "\n",
    "**You can add cells as needed. DO NOT COPY OR DELETE EXISTING CELLS!  DO NOT CHANGE THE TYPE OF EXISTING CELLS.**"
   ]
  },
  {
   "cell_type": "markdown",
   "metadata": {
    "deletable": false,
    "nbgrader": {
     "cell_type": "markdown",
     "checksum": "560a08288e799450c051b52e7db8ca4d",
     "grade": true,
     "grade_id": "cell-01880b73beb72a83",
     "locked": false,
     "points": 10,
     "schema_version": 3,
     "solution": true,
     "task": false
    }
   },
   "source": [
    "YOUR ANSWER HERE"
   ]
  },
  {
   "cell_type": "markdown",
   "metadata": {
    "deletable": false,
    "editable": false,
    "nbgrader": {
     "cell_type": "markdown",
     "checksum": "5542bd65decd841ff1171edd8130bf82",
     "grade": false,
     "grade_id": "cell-d16528ddfb0d896a",
     "locked": true,
     "schema_version": 3,
     "solution": false,
     "task": false
    }
   },
   "source": [
    "## Controller Design\n",
    "* List of controllers that are active by state\n",
    "* Assumptions and justifications for each controller type\n",
    "* Process to determine desired behavior (design goal) for each controller\n",
    "* Process, including all steps in a LIVE CODE CELL for each controller design (root locus, angle deficiency, etc.)\n",
    "* **IN A SEPARATE MARKDOWN CELL, LIST THE FINAL CONTROLLER GAINS FOR EACH CONTROLLER WITH UNITS.**\n",
    "\n",
    "\n",
    "**You can add cells as needed. DO NOT COPY OR DELETE EXISTING CELLS!  DO NOT CHANGE THE TYPE OF EXISTING CELLS.**"
   ]
  },
  {
   "cell_type": "markdown",
   "metadata": {
    "deletable": false,
    "nbgrader": {
     "cell_type": "markdown",
     "checksum": "7f4b642bb374053368e9b97d9c5f6729",
     "grade": true,
     "grade_id": "cell-18c99f976d04f02f",
     "locked": false,
     "points": 10,
     "schema_version": 3,
     "solution": true,
     "task": false
    }
   },
   "source": [
    "YOUR ANSWER HERE"
   ]
  },
  {
   "cell_type": "markdown",
   "metadata": {
    "deletable": false,
    "editable": false,
    "nbgrader": {
     "cell_type": "markdown",
     "checksum": "20e36ec7327dbb47b842dedede0dbff1",
     "grade": false,
     "grade_id": "cell-6be298a4616b6655",
     "locked": true,
     "schema_version": 3,
     "solution": false,
     "task": false
    }
   },
   "source": [
    "## Controller Validation \n",
    " \n",
    "* Plots comparing the predicted and measured step responses for each controller. \n",
    "* Include LIVE code below. Use clear titles and labels to explain plots.  When information needs explanation, include in a markdown cell.\n",
    "\n",
    "**You can add cells as needed. DO NOT COPY OR DELETE EXISTING CELLS!  DO NOT CHANGE THE TYPE OF EXISTING CELLS.**"
   ]
  },
  {
   "cell_type": "code",
   "execution_count": null,
   "metadata": {
    "deletable": false,
    "nbgrader": {
     "cell_type": "code",
     "checksum": "0131efdf5a2bd77e03cf4b14dc34e8ee",
     "grade": true,
     "grade_id": "cell-914bd73af44300a2",
     "locked": false,
     "points": 5,
     "schema_version": 3,
     "solution": true,
     "task": false
    }
   },
   "outputs": [],
   "source": [
    "# YOUR CODE HERE\n",
    "raise NotImplementedError()"
   ]
  },
  {
   "cell_type": "markdown",
   "metadata": {},
   "source": [
    "## Demonstration Day Performance Assessment\n",
    " \n",
    "* ***Quantative*** assessment of demonstration day performance in terms of gate timing a turn target location achieved.\n",
    "* Physical arguments for any variations between predictions and achieved performance.\n",
    "\n",
    "**You can add cells as needed. DO NOT COPY OR DELETE EXISTING CELLS!  DO NOT CHANGE THE TYPE OF EXISTING CELLS."
   ]
  },
  {
   "cell_type": "markdown",
   "metadata": {
    "deletable": false,
    "nbgrader": {
     "cell_type": "markdown",
     "checksum": "2cae4ac9bc61553b84baf1957b4bbe76",
     "grade": true,
     "grade_id": "cell-546545c31f48b686",
     "locked": false,
     "points": 5,
     "schema_version": 3,
     "solution": true,
     "task": false
    }
   },
   "source": [
    "YOUR ANSWER HERE"
   ]
  },
  {
   "cell_type": "markdown",
   "metadata": {
    "deletable": false,
    "editable": false,
    "nbgrader": {
     "cell_type": "markdown",
     "checksum": "d6ad1aefc2b02824ade36c900e636632",
     "grade": false,
     "grade_id": "cell-34a8e256c0315946",
     "locked": true,
     "schema_version": 3,
     "solution": false,
     "task": false
    }
   },
   "source": [
    "## Next Steps\n",
    "* Description of any changes *you have made* (as opposed to ones you could make or plan to make) after demonstration day and tangible proof of implementation (code) and improvement as a result (this can be a simulation, a video, or data)\n",
    "\n",
    "**You can add cells as needed. DO NOT COPY OR DELETE EXISTING CELLS!  DO NOT CHANGE THE TYPE OF EXISTING CELLS.**"
   ]
  },
  {
   "cell_type": "markdown",
   "metadata": {
    "deletable": false,
    "nbgrader": {
     "cell_type": "markdown",
     "checksum": "c1328a5e6b455e994904a7e50da73bb7",
     "grade": true,
     "grade_id": "cell-c936e49dc7b24ffe",
     "locked": false,
     "points": 0,
     "schema_version": 3,
     "solution": true,
     "task": false
    }
   },
   "source": [
    "YOUR ANSWER HERE"
   ]
  }
 ],
 "metadata": {
  "kernelspec": {
   "display_name": "Python 3",
   "language": "python",
   "name": "python3"
  },
  "language_info": {
   "codemirror_mode": {
    "name": "ipython",
    "version": 3
   },
   "file_extension": ".py",
   "mimetype": "text/x-python",
   "name": "python",
   "nbconvert_exporter": "python",
   "pygments_lexer": "ipython3",
   "version": "3.6.9"
  },
  "toc": {
   "base_numbering": 1,
   "nav_menu": {},
   "number_sections": true,
   "sideBar": true,
   "skip_h1_title": false,
   "title_cell": "Table of Contents",
   "title_sidebar": "Contents",
   "toc_cell": true,
   "toc_position": {},
   "toc_section_display": true,
   "toc_window_display": false
  }
 },
 "nbformat": 4,
 "nbformat_minor": 4
}
