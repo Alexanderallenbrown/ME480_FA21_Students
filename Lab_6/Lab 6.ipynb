{
 "cells": [
  {
   "cell_type": "markdown",
   "metadata": {
    "toc": "true"
   },
   "source": [
    "<h1>Table of Contents<span class=\"tocSkip\"></span></h1>\n",
    "<div class=\"toc\"><ul class=\"toc-item\"><li><span><a href=\"#Challenge\" data-toc-modified-id=\"Challenge-1\"><span class=\"toc-item-num\">1&nbsp;&nbsp;</span>Challenge</a></span></li><li><span><a href=\"#Model-Validation:--3rd-Order-Plant\" data-toc-modified-id=\"Model-Validation:--3rd-Order-Plant-2\"><span class=\"toc-item-num\">2&nbsp;&nbsp;</span><em>Model Validation:</em>  3rd Order Plant</a></span></li><li><span><a href=\"#Controller-Design:-Block-Diagram\" data-toc-modified-id=\"Controller-Design:-Block-Diagram-3\"><span class=\"toc-item-num\">3&nbsp;&nbsp;</span><em>Controller Design:</em> Block Diagram</a></span></li><li><span><a href=\"#Controller-Design:-Root-Locus-Sketch\" data-toc-modified-id=\"Controller-Design:-Root-Locus-Sketch-4\"><span class=\"toc-item-num\">4&nbsp;&nbsp;</span><em>Controller Design:</em> Root Locus Sketch</a></span></li><li><span><a href=\"#Controller-Design:-Select-Gains-with-Root-Locus\" data-toc-modified-id=\"Controller-Design:-Select-Gains-with-Root-Locus-5\"><span class=\"toc-item-num\">5&nbsp;&nbsp;</span><em>Controller Design:</em> Select Gains with Root Locus</a></span><ul class=\"toc-item\"><li><span><a href=\"#Arduino-Code-Update\" data-toc-modified-id=\"Arduino-Code-Update-5.1\"><span class=\"toc-item-num\">5.1&nbsp;&nbsp;</span>Arduino Code Update</a></span></li></ul></li><li><span><a href=\"#Controller-Validation:-1st-and-3rd-Order-Plant\" data-toc-modified-id=\"Controller-Validation:-1st-and-3rd-Order-Plant-6\"><span class=\"toc-item-num\">6&nbsp;&nbsp;</span><em>Controller Validation:</em> 1st and 3rd Order Plant</a></span></li></ul></div>"
   ]
  },
  {
   "cell_type": "markdown",
   "metadata": {
    "deletable": false,
    "editable": false,
    "nbgrader": {
     "cell_type": "markdown",
     "checksum": "c234960ac0cae17e4993f223864578ff",
     "grade": false,
     "grade_id": "cell-6a96874b6cc2d2ae",
     "locked": true,
     "schema_version": 3,
     "solution": false
    }
   },
   "source": [
    "## Challenge\n",
    "\n",
    "Having developed a plant transfer function for the **MOTOR-SPRING-LOAD** configuration, you are being asked to improve its closed loop performance by reducing its settling time while achieving perfect tracking.  However, this will require you to increase the complexity of your controller.  Your new controller will need a settling time 1.5-2 times faster than the open loop system.  Additionally, the slowest eigenvalues (or the \"dominant\" eigenvalue pair) should produce a damping ratio of 0.707.\n",
    "\n",
    "## *Model Validation:*  3rd Order Plant\n",
    "**Begin by including the validation of your plant model in the code block below. You can copy this from Lab 5 $OR$ you can generate a new plant model if you suspect deficiencies in your original model.  Include in your OUTPUT a graph of your fit to data and DISPLAY IN THE OCTAVE OUTPUT the plant transfer function.**  You should use ```minreal()``` to ensure transfer functions are displayed in simplified form."
   ]
  },
  {
   "cell_type": "code",
   "execution_count": null,
   "metadata": {
    "deletable": false,
    "nbgrader": {
     "cell_type": "code",
     "checksum": "18fb4204a20079b87bb9bbd78a72e95a",
     "grade": true,
     "grade_id": "cell-bb20e09054c72815",
     "locked": false,
     "points": 5,
     "schema_version": 3,
     "solution": true
    }
   },
   "outputs": [],
   "source": [
    "% YOUR CODE HERE\n",
    "error('No Answer Given!')"
   ]
  },
  {
   "cell_type": "markdown",
   "metadata": {
    "deletable": false,
    "editable": false,
    "nbgrader": {
     "cell_type": "markdown",
     "checksum": "a930d21017111641113716c84ad075e7",
     "grade": false,
     "grade_id": "cell-27150d078e5a3b80",
     "locked": true,
     "schema_version": 3,
     "solution": false
    }
   },
   "source": [
    "## *Controller Design:* Block Diagram\n",
    "\n",
    "**Sketch the block diagram for PI control of velocity for this system and show the development of the relevant transfer functions needed for root locus analysis.**"
   ]
  },
  {
   "cell_type": "markdown",
   "metadata": {
    "collapsed": true,
    "deletable": false,
    "nbgrader": {
     "cell_type": "markdown",
     "checksum": "878dc2bbfaf14b37c3481bdc7e544d00",
     "grade": true,
     "grade_id": "cell-ee928d6c4986de20",
     "locked": false,
     "points": 5,
     "schema_version": 3,
     "solution": true
    }
   },
   "source": [
    "YOUR ANSWER HERE"
   ]
  },
  {
   "cell_type": "markdown",
   "metadata": {
    "deletable": false,
    "editable": false,
    "nbgrader": {
     "cell_type": "markdown",
     "checksum": "ce38712e83f00d305b392a48b681ea35",
     "grade": false,
     "grade_id": "cell-cd42533b12fbf050",
     "locked": true,
     "schema_version": 3,
     "solution": false
    }
   },
   "source": [
    "## *Controller Design:* Root Locus Sketch\n",
    "\n",
    "The key difference between the motor-spring-load system and the motor-shaft-load system in Lab 5 was the addition of a spring connecting the motor with the load inertia. As a \"first pass\" at developing an expectation for how the motor-spring-load plant might behave under closed loop control you decide to first consider how the third order system's root locus might look *if you ignored the compliance in the spring,* and approximated the third order system's dynamics using the first order motor-shaft-load system model you developed in Lab 5. \n",
    "\n",
    "In particular, you will **begin by making a hand sketch of the root locus for your motor-shaft-load model from Lab 5 under PI control.**  Sketch two cases, each with a different placement of the PI controller's \"control zero\":\n",
    "\n",
    "1. For case 1, select a control zero such that the closed loop response will never oscillate.\n",
    "2. For case 2, place the control zero such that oscillatory behavior is possible.**"
   ]
  },
  {
   "cell_type": "markdown",
   "metadata": {
    "deletable": false,
    "nbgrader": {
     "cell_type": "markdown",
     "checksum": "6bdbc8f2400a6f2361f565a73347bc2a",
     "grade": true,
     "grade_id": "cell-ed29d2f02a8cbf5f",
     "locked": false,
     "points": 10,
     "schema_version": 3,
     "solution": true
    }
   },
   "source": [
    "YOUR ANSWER HERE"
   ]
  },
  {
   "cell_type": "markdown",
   "metadata": {
    "deletable": false,
    "editable": false,
    "nbgrader": {
     "cell_type": "markdown",
     "checksum": "b32cb12f99b4a671253cab3f59b780fe",
     "grade": false,
     "grade_id": "cell-6047d53b005b54c5",
     "locked": true,
     "schema_version": 3,
     "solution": false
    }
   },
   "source": [
    "**Using the hand sketches above, explain what range of zero locations you would consider for the design requirements listed at the top of the lab and why.**"
   ]
  },
  {
   "cell_type": "markdown",
   "metadata": {
    "deletable": false,
    "nbgrader": {
     "cell_type": "markdown",
     "checksum": "fbd0b416376396825a9a9fe1f4b264e2",
     "grade": true,
     "grade_id": "cell-828cd280c95ee8c8",
     "locked": false,
     "points": 5,
     "schema_version": 3,
     "solution": true
    }
   },
   "source": [
    "YOUR ANSWER HERE"
   ]
  },
  {
   "attachments": {
    "image.png": {
     "image/png": "[encoded data removed]"
    }
   },
   "cell_type": "markdown",
   "metadata": {
    "deletable": false,
    "editable": false,
    "nbgrader": {
     "cell_type": "markdown",
     "checksum": "fa072fe453890cee6eba0d777eb1fec3",
     "grade": false,
     "grade_id": "cell-b9473c288dfb042f",
     "locked": true,
     "schema_version": 3,
     "solution": false
    }
   },
   "source": [
    "## *Controller Design:* Select Gains with Root Locus \n",
    "\n",
    "**Using the Octave cell below, plot root loci of the first order AND third order plants under PI control that are capable of meeting the closed loop design requirements.**\n",
    "\n",
    "With more than one variable unkown, it will take several steps to estimate your controller's gains. \n",
    "* Plot your target eigenvalue on the root locus plot by using ```hold on``` and a simple plot command to place a symbol at the proper real and imaginary coordinates.\n",
    "* Using the *Data Curser* in MATLAB (only available in MATLAB, you can't do this within the Jupyter notebook), find a gain that matches the target eigenvalue.\n",
    "\n",
    "    *TIP: Right click on the data curser and set the Selection Style to Mouse Position so you can move smoothly around the root locus*\n",
    "![image.png](attachment:image.png)\n",
    "\n",
    "\n",
    "* If your root locus does not intersect the target eigenvalue, you will have to change the value for the controller zero and replot.\n",
    "* From the root locus gain, calculate your controller gains $k_p$, $k_i$, and $k_{sum}$.  **Display them as outputs of your code along with the root locus plot with the target eigenvalue**. \n",
    "\n"
   ]
  },
  {
   "cell_type": "code",
   "execution_count": null,
   "metadata": {
    "deletable": false,
    "nbgrader": {
     "cell_type": "code",
     "checksum": "15837e5a8fd5ff2fd5facba45cd7f557",
     "grade": true,
     "grade_id": "cell-1b1d8d7b71ec33c8",
     "locked": false,
     "points": 10,
     "schema_version": 3,
     "solution": true
    }
   },
   "outputs": [],
   "source": [
    "% YOUR CODE HERE\n",
    "error('No Answer Given!')"
   ]
  },
  {
   "cell_type": "markdown",
   "metadata": {
    "deletable": false,
    "editable": false,
    "nbgrader": {
     "cell_type": "markdown",
     "checksum": "f2c511893a0809525b7a36d2da796909",
     "grade": false,
     "grade_id": "cell-6504c4b1f681b6bf",
     "locked": true,
     "schema_version": 3,
     "solution": false
    }
   },
   "source": [
    "### Arduino Code Update\n",
    "\n",
    "Beginning with the code you used for your P controller in Lab 5, make a copy of the code and add the calculation of the integral of the error and include that in your control law.\n",
    "\n",
    "<font color = \"white\">.</font>\n",
    "<font size = 3>\n",
    "$u = k_{sum}(k_p  e + k_i \\int{e})$\n",
    "</font>\n",
    "\n",
    "\n",
    "Since you do not have a continuous error function (your error function has values only at descrete time steps) you will need to estimate the integral numerically.  You can use the [Euler Integration](../W04A_Nonlinear_Numerical/W04A_Modeling_Nonlinear_Numerical.ipynb#Model-Validation:-Numerical-Integration) to do this.\n",
    "\n",
    "<font color = \"white\">.</font>\n",
    "<font size = 3>\n",
    "$integral \\, of \\, error_{t_1} = e_1 \\cdot dt$\n",
    "</font>\n",
    "\n",
    "so the integral of error at time $t_3$ \n",
    "\n",
    "<font color = \"white\">.</font>\n",
    "<font size = 3>\n",
    "$integral \\, of \\, error_{t_3}= e_1 \\cdot dt_1 + e_2 \\cdot dt_2 + e_3 \\cdot dt_3$\n",
    "</font>\n",
    "\n",
    "Implement this algorithm after calculating the error in the ``void loop()`` function of your arduino code.  Remember to choose an appropriate [data type](../Week09_Implementation_Resources/Week09_Arduino_Resource.ipynb#Variable-Data-Types) for any variables you declare.\n"
   ]
  },
  {
   "cell_type": "markdown",
   "metadata": {},
   "source": [
    "<font color = \"blue\">\n",
    "Include in the cell below a copy of your completed Arduino code. Double-click on this cell to see how to properly format your code as shown below:\n",
    "\n",
    "```c\n",
    "//sample Arduino code\n",
    "//properly formated for display\n",
    "```\n",
    "\n",
    "</font>"
   ]
  },
  {
   "cell_type": "markdown",
   "metadata": {
    "deletable": false,
    "nbgrader": {
     "cell_type": "markdown",
     "checksum": "53c2a3fa066dc9c912c1b604fd35a40e",
     "grade": true,
     "grade_id": "cell-542a5559b232a00b",
     "locked": false,
     "points": 5,
     "schema_version": 3,
     "solution": true
    }
   },
   "source": [
    "YOUR ANSWER HERE"
   ]
  },
  {
   "cell_type": "markdown",
   "metadata": {
    "deletable": false,
    "editable": false,
    "nbgrader": {
     "cell_type": "markdown",
     "checksum": "65bbf268104af3f816d9db41fc52549a",
     "grade": false,
     "grade_id": "cell-86a040173e85cd59",
     "locked": true,
     "schema_version": 3,
     "solution": false
    }
   },
   "source": [
    "## *Controller Validation:* 1st and 3rd Order Plant\n",
    "\n",
    "* After modifying the arduino code and inputting your calculated gains, run the motor with the spring shaft and load in a step response test.\n",
    "* Set the initial velocity to be just large enough to run the motor smoothly (Do you know why?  If not, be sure to ask!).\n",
    "* Set the required step velocity being careful to check that the arduino pwm output is ***STRICTLY LESS THAN*** 5V.  If you request a voltage higher than 5V the motor will only see 5V (as that is the limit of your power supply).  This will introduce a non-linearity into your system and make your model innacurate.  \n",
    "\n",
    "**In the code cell below, compare your predicted responses to the measured responses.  Plot the predicted feedback signal vs. measured, the predicted control signal (u) vs. measured to confirming you did not \"saturate\" the H-Bridge output.  Also plot the predicted velocity (both first and third order plants) vs. the measured.  Format these as 3 separete plots with the predicted and actual overlayed on the SAME plot.**"
   ]
  },
  {
   "cell_type": "code",
   "execution_count": null,
   "metadata": {
    "deletable": false,
    "nbgrader": {
     "cell_type": "code",
     "checksum": "af1a26f533243158f608017bf69f957c",
     "grade": true,
     "grade_id": "cell-391d2644aa7c7147",
     "locked": false,
     "points": 10,
     "schema_version": 3,
     "solution": true
    }
   },
   "outputs": [],
   "source": [
    "% YOUR CODE HERE\n",
    "error('No Answer Given!')"
   ]
  },
  {
   "cell_type": "markdown",
   "metadata": {
    "deletable": false,
    "editable": false,
    "nbgrader": {
     "cell_type": "markdown",
     "checksum": "b26ee953ae4b316c35a2752d762102ec",
     "grade": false,
     "grade_id": "cell-d84cf91783a85208",
     "locked": true,
     "schema_version": 3,
     "solution": false
    }
   },
   "source": [
    "**In the cell below, summarize the comparison.  Comment on your expectations for the modeled closed loop behavior and the closed loop behavior you observed.  Does the dominant behavior of the real system agree with your predictions under closed loop control?  Are there any other aspects of the closed loop respose of the real system that that would lead you to the first or third order plant model in future designs?**"
   ]
  },
  {
   "cell_type": "markdown",
   "metadata": {
    "deletable": false,
    "nbgrader": {
     "cell_type": "markdown",
     "checksum": "185af604474d0e47a14714367ce65198",
     "grade": true,
     "grade_id": "cell-5980c97fa80fec16",
     "locked": false,
     "points": 5,
     "schema_version": 3,
     "solution": true
    }
   },
   "source": [
    "YOUR ANSWER HERE"
   ]
  }
 ],
 "metadata": {
  "hide_input": false,
  "kernelspec": {
   "display_name": "Octave",
   "language": "octave",
   "name": "octave"
  },
  "language_info": {
   "file_extension": ".m",
   "help_links": [
    {
     "text": "GNU Octave",
     "url": "https://www.gnu.org/software/octave/support.html"
    },
    {
     "text": "Octave Kernel",
     "url": "https://github.com/Calysto/octave_kernel"
    },
    {
     "text": "MetaKernel Magics",
     "url": "https://metakernel.readthedocs.io/en/latest/source/README.html"
    }
   ],
   "mimetype": "text/x-octave",
   "name": "octave",
   "version": "4.2.2"
  },
  "nbTranslate": {
   "displayLangs": [
    "*"
   ],
   "hotkey": "alt-t",
   "langInMainMenu": true,
   "sourceLang": "en",
   "targetLang": "fr",
   "useGoogleTranslate": true
  },
  "toc": {
   "base_numbering": 1,
   "nav_menu": {
    "height": "228px",
    "width": "252px"
   },
   "number_sections": true,
   "sideBar": true,
   "skip_h1_title": true,
   "title_cell": "Table of Contents",
   "title_sidebar": "Contents",
   "toc_cell": true,
   "toc_position": {},
   "toc_section_display": "block",
   "toc_window_display": false
  },
  "varInspector": {
   "cols": {
    "lenName": 16,
    "lenType": 16,
    "lenVar": 40
   },
   "kernels_config": {
    "python": {
     "delete_cmd_postfix": "",
     "delete_cmd_prefix": "del ",
     "library": "var_list.py",
     "varRefreshCmd": "print(var_dic_list())"
    },
    "r": {
     "delete_cmd_postfix": ") ",
     "delete_cmd_prefix": "rm(",
     "library": "var_list.r",
     "varRefreshCmd": "cat(var_dic_list()) "
    }
   },
   "types_to_exclude": [
    "module",
    "function",
    "builtin_function_or_method",
    "instance",
    "_Feature"
   ],
   "window_display": false
  }
 },
 "nbformat": 4,
 "nbformat_minor": 2
}
