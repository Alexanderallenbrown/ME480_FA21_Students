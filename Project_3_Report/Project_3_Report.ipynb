{
 "cells": [
  {
   "cell_type": "markdown",
   "metadata": {
    "deletable": false,
    "editable": false,
    "nbgrader": {
     "cell_type": "markdown",
     "checksum": "cf8ce85877f335ef310b3ceff5b926d1",
     "grade": false,
     "grade_id": "cell-8da958b2fe8facc5",
     "locked": true,
     "schema_version": 3,
     "solution": false,
     "task": false
    },
    "toc": true
   },
   "source": [
    "<h1>Table of Contents<span class=\"tocSkip\"></span></h1>\n",
    "<div class=\"toc\"><ul class=\"toc-item\"><li><span><a href=\"#Arduino-code\" data-toc-modified-id=\"Arduino-code-1\"><span class=\"toc-item-num\">1&nbsp;&nbsp;</span>Arduino code</a></span></li><li><span><a href=\"#Finite-State-Machine-Design\" data-toc-modified-id=\"Finite-State-Machine-Design-2\"><span class=\"toc-item-num\">2&nbsp;&nbsp;</span>Finite State Machine Design</a></span></li><li><span><a href=\"#Model-Development-&amp;-Validation\" data-toc-modified-id=\"Model-Development-&amp;-Validation-3\"><span class=\"toc-item-num\">3&nbsp;&nbsp;</span>Model Development &amp; Validation</a></span></li><li><span><a href=\"#Controller-Design\" data-toc-modified-id=\"Controller-Design-4\"><span class=\"toc-item-num\">4&nbsp;&nbsp;</span>Controller Design</a></span></li><li><span><a href=\"#Controller-Validation\" data-toc-modified-id=\"Controller-Validation-5\"><span class=\"toc-item-num\">5&nbsp;&nbsp;</span>Controller Validation</a></span></li></ul></div>"
   ]
  },
  {
   "cell_type": "markdown",
   "metadata": {
    "deletable": false,
    "editable": false,
    "nbgrader": {
     "cell_type": "markdown",
     "checksum": "88f099783552980874fc32caf7866f3b",
     "grade": false,
     "grade_id": "cell-adb57f966163eda6",
     "locked": true,
     "schema_version": 3,
     "solution": false,
     "task": false
    }
   },
   "source": [
    "## Arduino code\n",
    "* Submit your properly formatted Arduino code in the Markdown Cell Below"
   ]
  },
  {
   "cell_type": "markdown",
   "metadata": {
    "deletable": false,
    "nbgrader": {
     "cell_type": "markdown",
     "checksum": "17fbae1ef44eb0e9d068dadee75df19f",
     "grade": true,
     "grade_id": "cell-b7e186da67489f10",
     "locked": false,
     "points": 0,
     "schema_version": 3,
     "solution": true,
     "task": false
    }
   },
   "source": [
    "YOUR ANSWER HERE"
   ]
  },
  {
   "cell_type": "markdown",
   "metadata": {
    "deletable": false,
    "editable": false,
    "nbgrader": {
     "cell_type": "markdown",
     "checksum": "707f3588f3359ea5676935c89da94f84",
     "grade": false,
     "grade_id": "cell-704dd299daf0701d",
     "locked": true,
     "schema_version": 3,
     "solution": false,
     "task": false
    }
   },
   "source": [
    "## Finite State Machine Design\n",
    "* State transition diagram and table\n",
    "\n",
    "**You can add cells as needed. DO NOT COPY OR DELETE EXISTING CELLS!  DO NOT CHANGE THE TYPE OF EXISTING CELLS.**"
   ]
  },
  {
   "cell_type": "markdown",
   "metadata": {
    "deletable": false,
    "nbgrader": {
     "cell_type": "markdown",
     "checksum": "b4453c975fc4c5e7d6bbaa41b1e60d1c",
     "grade": true,
     "grade_id": "cell-6f97260ecb3a815e",
     "locked": false,
     "points": 15,
     "schema_version": 3,
     "solution": true,
     "task": false
    }
   },
   "source": [
    "YOUR ANSWER HERE"
   ]
  },
  {
   "cell_type": "markdown",
   "metadata": {
    "deletable": false,
    "editable": false,
    "nbgrader": {
     "cell_type": "markdown",
     "checksum": "cff78733d9a8c414465a35e554b4c4cf",
     "grade": false,
     "grade_id": "cell-0f019c83cbca8c95",
     "locked": true,
     "schema_version": 3,
     "solution": false,
     "task": false
    }
   },
   "source": [
    "## Model Development & Validation\n",
    "* Assumptions and Justification for all modeling choices in a Markdown Cell.\n",
    "* Plant validation plots generated in live code cells.\n",
    "    * Clearly output plant tansfer functions\n",
    "    * Use clear titles and labels to explain plots.  \n",
    "    * When information needs explanation, include in a markdown cell.\n",
    "\n",
    "**You can add cells as needed. DO NOT COPY OR DELETE EXISTING CELLS!  DO NOT CHANGE THE TYPE OF EXISTING CELLS.**"
   ]
  },
  {
   "cell_type": "markdown",
   "metadata": {
    "deletable": false,
    "nbgrader": {
     "cell_type": "markdown",
     "checksum": "721cd25b3169e6d87779218a71a9304d",
     "grade": true,
     "grade_id": "cell-01880b73beb72a83",
     "locked": false,
     "points": 5,
     "schema_version": 3,
     "solution": true,
     "task": false
    }
   },
   "source": [
    "YOUR ANSWER HERE"
   ]
  },
  {
   "cell_type": "markdown",
   "metadata": {
    "deletable": false,
    "editable": false,
    "nbgrader": {
     "cell_type": "markdown",
     "checksum": "157c09213a51fd8dc523fa8271819b78",
     "grade": false,
     "grade_id": "cell-d16528ddfb0d896a",
     "locked": true,
     "schema_version": 3,
     "solution": false,
     "task": false
    }
   },
   "source": [
    "## Controller Design\n",
    "* List of controllers that are active by state\n",
    "* Assumptions and justifications for each controller type\n",
    "* Process to determine desired behavior (design goal) for each controller\n",
    "* Process, including all steps in a **LIVE CODE CELL** for each controller design (root locus, angle deficiency, etc.)\n",
    "* **IN A SEPARATE MARKDOWN CELL, LIST THE FINAL CONTROLLER GAINS FOR EACH CONTROLLER WITH UNITS.**\n",
    "\n",
    "\n",
    "**You can add cells as needed. DO NOT COPY OR DELETE EXISTING CELLS!  DO NOT CHANGE THE TYPE OF EXISTING CELLS.**"
   ]
  },
  {
   "cell_type": "markdown",
   "metadata": {
    "deletable": false,
    "nbgrader": {
     "cell_type": "markdown",
     "checksum": "7f4b642bb374053368e9b97d9c5f6729",
     "grade": true,
     "grade_id": "cell-18c99f976d04f02f",
     "locked": false,
     "points": 10,
     "schema_version": 3,
     "solution": true,
     "task": false
    }
   },
   "source": [
    "YOUR ANSWER HERE"
   ]
  },
  {
   "cell_type": "markdown",
   "metadata": {
    "deletable": false,
    "editable": false,
    "nbgrader": {
     "cell_type": "markdown",
     "checksum": "b01f3e298f1f70edaf587a3eac4c0b60",
     "grade": false,
     "grade_id": "cell-6be298a4616b6655",
     "locked": true,
     "schema_version": 3,
     "solution": false,
     "task": false
    }
   },
   "source": [
    "## Controller Validation \n",
    " \n",
    "* Plots comparing the predicted and measured step responses for each controller. \n",
    "* Include **LIVE code below**. Use clear titles and labels to explain plots.  \n",
    "* Include physical arguments for any variations between predictions and achieved performance.\n",
    "* When information needs explanation, include in a markdown cell.\n",
    "\n",
    "**You can add cells as needed. DO NOT COPY OR DELETE EXISTING CELLS!  DO NOT CHANGE THE TYPE OF EXISTING CELLS.**"
   ]
  },
  {
   "cell_type": "markdown",
   "metadata": {
    "deletable": false,
    "nbgrader": {
     "cell_type": "markdown",
     "checksum": "83310d9f0a775f2cd5268fb4b6a955ab",
     "grade": true,
     "grade_id": "cell-914bd73af44300a2",
     "locked": false,
     "points": 15,
     "schema_version": 3,
     "solution": true,
     "task": false
    }
   },
   "source": [
    "YOUR ANSWER HERE"
   ]
  }
 ],
 "metadata": {
  "kernelspec": {
   "display_name": "Octave",
   "language": "octave",
   "name": "octave"
  },
  "language_info": {
   "file_extension": ".m",
   "help_links": [
    {
     "text": "GNU Octave",
     "url": "https://www.gnu.org/software/octave/support.html"
    },
    {
     "text": "Octave Kernel",
     "url": "https://github.com/Calysto/octave_kernel"
    },
    {
     "text": "MetaKernel Magics",
     "url": "https://metakernel.readthedocs.io/en/latest/source/README.html"
    }
   ],
   "mimetype": "text/x-octave",
   "name": "octave",
   "version": "4.2.2"
  },
  "toc": {
   "base_numbering": 1,
   "nav_menu": {},
   "number_sections": true,
   "sideBar": true,
   "skip_h1_title": false,
   "title_cell": "Table of Contents",
   "title_sidebar": "Contents",
   "toc_cell": true,
   "toc_position": {},
   "toc_section_display": true,
   "toc_window_display": false
  }
 },
 "nbformat": 4,
 "nbformat_minor": 4
}
