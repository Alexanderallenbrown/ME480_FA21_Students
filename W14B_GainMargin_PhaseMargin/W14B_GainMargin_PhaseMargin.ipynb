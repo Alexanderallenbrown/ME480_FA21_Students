{
 "cells": [
  {
   "cell_type": "markdown",
   "metadata": {
    "toc": true
   },
   "source": [
    "<h1>Table of Contents<span class=\"tocSkip\"></span></h1>\n",
    "<div class=\"toc\"><ul class=\"toc-item\"><li><span><a href=\"#Challenge\" data-toc-modified-id=\"Challenge-1\"><span class=\"toc-item-num\">1&nbsp;&nbsp;</span>Challenge</a></span></li><li><span><a href=\"#Relative-stability-using-the-Bode-plot\" data-toc-modified-id=\"Relative-stability-using-the-Bode-plot-2\"><span class=\"toc-item-num\">2&nbsp;&nbsp;</span>Relative stability using the Bode plot</a></span><ul class=\"toc-item\"><li><span><a href=\"#Gain-Margin\" data-toc-modified-id=\"Gain-Margin-2.1\"><span class=\"toc-item-num\">2.1&nbsp;&nbsp;</span>Gain Margin</a></span><ul class=\"toc-item\"><li><span><a href=\"#Why-does-this-work?\" data-toc-modified-id=\"Why-does-this-work?-2.1.1\"><span class=\"toc-item-num\">2.1.1&nbsp;&nbsp;</span>Why does this work?</a></span></li></ul></li><li><span><a href=\"#Gain-Margin:-Example\" data-toc-modified-id=\"Gain-Margin:-Example-2.2\"><span class=\"toc-item-num\">2.2&nbsp;&nbsp;</span>Gain Margin: Example</a></span></li><li><span><a href=\"#Phase-Margin\" data-toc-modified-id=\"Phase-Margin-2.3\"><span class=\"toc-item-num\">2.3&nbsp;&nbsp;</span>Phase Margin</a></span><ul class=\"toc-item\"><li><span><a href=\"#Why?\" data-toc-modified-id=\"Why?-2.3.1\"><span class=\"toc-item-num\">2.3.1&nbsp;&nbsp;</span>Why?</a></span></li></ul></li><li><span><a href=\"#Phase-Margin:-Example\" data-toc-modified-id=\"Phase-Margin:-Example-2.4\"><span class=\"toc-item-num\">2.4&nbsp;&nbsp;</span>Phase Margin: Example</a></span><ul class=\"toc-item\"><li><span><a href=\"#OK-but-my-root-locus-gain-is-not-1...-now-what?\" data-toc-modified-id=\"OK-but-my-root-locus-gain-is-not-1...-now-what?-2.4.1\"><span class=\"toc-item-num\">2.4.1&nbsp;&nbsp;</span>OK but my root locus gain is not 1... now what?</a></span></li></ul></li></ul></li><li><span><a href=\"#Using-gain-and-phase-margin-to-assess-the-robustness-of-an-existing-control-system-design\" data-toc-modified-id=\"Using-gain-and-phase-margin-to-assess-the-robustness-of-an-existing-control-system-design-3\"><span class=\"toc-item-num\">3&nbsp;&nbsp;</span>Using gain and phase margin to assess the robustness of an existing control system design</a></span></li><li><span><a href=\"#Rules-of-thumb-for-gain-and-phase-margins-in-a-control-system-design\" data-toc-modified-id=\"Rules-of-thumb-for-gain-and-phase-margins-in-a-control-system-design-4\"><span class=\"toc-item-num\">4&nbsp;&nbsp;</span>Rules of thumb for gain and phase margins in a control system design</a></span></li><li><span><a href=\"#Exercises:-Due-Wednesday,-Dec-8-by-MIDNIGHT\" data-toc-modified-id=\"Exercises:-Due-Wednesday,-Dec-8-by-MIDNIGHT-5\"><span class=\"toc-item-num\">5&nbsp;&nbsp;</span>Exercises: Due Wednesday, Dec 8 by MIDNIGHT</a></span></li><li><span><a href=\"#Problem-1\" data-toc-modified-id=\"Problem-1-6\"><span class=\"toc-item-num\">6&nbsp;&nbsp;</span>Problem 1</a></span><ul class=\"toc-item\"><li><span><a href=\"#Problem-2\" data-toc-modified-id=\"Problem-2-6.1\"><span class=\"toc-item-num\">6.1&nbsp;&nbsp;</span>Problem 2</a></span></li><li><span><a href=\"#Problem-3\" data-toc-modified-id=\"Problem-3-6.2\"><span class=\"toc-item-num\">6.2&nbsp;&nbsp;</span>Problem 3</a></span></li></ul></li></ul></div>"
   ]
  },
  {
   "cell_type": "markdown",
   "metadata": {},
   "source": [
    "# Challenge\n",
    "\n",
    "In today's challenge, we would like to use what we have learned about Bode plots in the last few assignments to help us calculate the *relative stability* of a control system design. The concept of *relative stability* is not actually totally new to us! \n",
    "\n",
    "We have learned through our study of the root locus that a stable plant transfer function can become unstable under the direction of a feedback controller if the overall gain $K$ is too high-- we called the maximum possible gain allowable for the system to remain stable the *critical gain*. It is also known by another name: the \"gain margin.\" This is one useful measure of relative stability. \n",
    "\n",
    "However, you have probably found in your Zumo projects thatn *unmodeled dynamics* in our plant transfer function can change the landscape of the root locus, and cause instability *even when our model did not predict it*. \n",
    "\n",
    "To understand how to predict how risky our control system design might be in the face of unmodeled plant ($P(s)$) or sensor ($H(s)$) dynamics, we can use another measure of relative stability called the \"phase margin.\" Both the gain margin and the phase margin are easy to read off of a plant transfer function's Bode plot. To learn how, read on!"
   ]
  },
  {
   "cell_type": "markdown",
   "metadata": {},
   "source": [
    "# Relative stability using the Bode plot\n",
    "\n",
    "Over the last few weeks, we have talked extensively about a feedback control system in the following, standard form:"
   ]
  },
  {
   "cell_type": "markdown",
   "metadata": {},
   "source": [
    "<img src=\"data:image/png;base64,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\" style=\"cursor:pointer;max-width:100%;\" onclick=\"(function(img){if(img.wnd!=null&&!img.wnd.closed){img.wnd.focus();}else{var r=function(evt){if(evt.data=='ready'&&evt.source==img.wnd){img.wnd.postMessage(decodeURIComponent(img.getAttribute('src')),'*');window.removeEventListener('message',r);}};window.addEventListener('message',r);img.wnd=window.open('https://www.draw.io/?client=1&lightbox=1&edit=_blank');}})(this);\"/>"
   ]
  },
  {
   "cell_type": "markdown",
   "metadata": {},
   "source": [
    "This system has the following closed-loop transfer function:\n",
    "\n",
    "$$G_{cl}(s) = \\frac{y(s)}{r(s)} = \\frac{KC^\\star (s) P(s)}{1+KC^\\star (s) P(s) H(s)} = \\frac{KG(s)}{1+KG(s)H(s)}$$"
   ]
  },
  {
   "cell_type": "markdown",
   "metadata": {},
   "source": [
    "This system's characteristic equation is $1+KG(s)H(s)=0$, and this equation is what dictates the system's eigenvalues (or poles). We have studied how varying the \"loop gain\" $K$ changes the location of the system's poles by using the **root locus**. One of the things we calculated as we sketched the root locus for a system was the \"critical gain\" that would make the system go unstable. This critical gain is often thought of as a measure of \"relative stability,\" or how close a system is to being unstable.\n",
    "\n",
    "This process was somewhat involved, because we had to solve the characteristic equation's real and imaginary parts to find both the \"crossing frequency\" $\\omega_c$ and the \"critical gain\" $K_{crit}$. It turns out that the Bode plot for the \"open loop transfer function\" $G(s)H(s)$ allows us to find the same quantity with much less effort. In particular, the Bode plot is also used to find the **gain margin** (which is the same quantity as the \"critical gain\") and **phase margin** for a system under proportional feedback control. Just as before, if we have a system under PD, PI, or PID control, we can set $G(s)=C^\\star (s)P(s)$ to look at the effect of varying only one gain on the system's poles and relative stability."
   ]
  },
  {
   "cell_type": "markdown",
   "metadata": {
    "resourcetopic": "Feedback Control"
   },
   "source": [
    "## Gain Margin\n",
    "\n",
    "The gain margin for an \"open loop transfer function\" is defined as the *maximum value of the loop gain K* that is allowable before the system will go unstable. \n",
    "\n",
    "To calculate the \"gain margin\" (critical gain) using the frequency response and/or Bode plot:\n",
    "\n",
    "1. Calculate the crossing frequency $\\omega_c$ at which $\\phi = \\angle (G(j\\omega)H(j\\omega)) = -180^\\circ$ using the phase equation $\\phi(\\omega)$ or by looking at the Bode phase plot. \n",
    "2. Find the \"open loop transfer function\"'s magnitude $\\left|G(j\\omega)H(j\\omega)\\right|_{\\omega_c}$ at this frequency. The **gain margin** or **critical gain** of the system $G(j\\omega)H(j\\omega)$ is $GM = \\left|G(j\\omega)H(j\\omega)\\right|_{\\omega_c}^{-1}$.\n",
    "3. If you are looking at a Bode plot, and find the crossing frequency $\\omega_c$ visually, you will see the gain at this frequency in decibels as $G_{dB} = 20\\log_{10}\\left|GH\\right|$. The gain margin can be calculated by finding the gain margin in decibels as: $GM_{dB} = 0 - \\left.G_{dB}\\right|_{\\omega_c}$. Then, the gain margin $GM$ is found by converting $GM_{dB}$ from decibels into a raw magnitude ratio.\n",
    "\n",
    "If the system never reaches $\\phi=-180^\\circ$, it has \"infinite gain margin.\" This is something we could confirm using the root locus, but the Bode plot (really, the frequency response equations) makes finding out whether (and when) a system under feedback control might become unstable fairly quick."
   ]
  },
  {
   "cell_type": "markdown",
   "metadata": {},
   "source": [
    "### Why does this work?\n",
    "\n",
    "This is kind of strange to think about, because we have been looking at Bode plots as ways to understand a system's response to steady-state sinusoidal inputs... Stability margins actually have **nothing** to do with the type of input the system receives. So why are the frequency response equations useful here?\n",
    "\n",
    "We can reason through why the procedure above for finding the gain margin works by remembering that the characteristic equation for our system, $1+KGH=0$, can be written as:\n",
    "\n",
    "$$\\frac{-1}{K} = G(s)H(s)$$\n",
    "\n",
    "This means that if a point is on the root locus, the \"open loop transfer function\" $G(s)H(s)$ will have an angle of $\\pm180^\\circ$, or in other words, the angle criterion of the root locus will be satisfied. This means that when we substituted $s=j\\omega_c$ into our characteristic equation to find where the locus crossed the imaginary axis, we were unwittingly finding out where the angle of $G(j\\omega)H(j\\omega)$ was itself equal to $180^\\circ$. At this frequency, solving the magnitude criterion for the root locus would give us the gain required to cause closed loop system instability. Because we are already substituting $s=j\\omega$ in the calculation of $GH$'s frequency response, the gain margin procedure is simply a matter of following the steps above."
   ]
  },
  {
   "cell_type": "markdown",
   "metadata": {},
   "source": [
    "## Gain Margin: Example\n",
    "\n",
    "*Find the gain margin for an \"open loop\" transfer function $G(s)H(s) = \\frac{1}{(s+1)(s+2)(s+3)}$*.\n",
    "\n",
    "First, we write the magnitude and phase equations for $G(s)H(s)$. \n",
    "\n",
    "$$G(j\\omega)H(j\\omega) = \\frac{1}{(j\\omega)^3+6(j\\omega)^2+11(j\\omega)+6} = \\frac{1}{(-\\omega^3+11\\omega)j+6(1-\\omega^2)}$$\n",
    "\n",
    "$$\\phi = -\\tan^{-1}\\left(\\frac{-\\omega^3+11\\omega}{6(1-\\omega^2)}\\right)$$\n",
    "\n",
    "$$\\left|GH\\right| = \\frac{1}{\\sqrt{(-\\omega^3+11\\omega)^2+(6(1-\\omega^2))^2}}$$\n",
    "\n",
    "Looking at the phase equation $\\phi$, we can see that since $\\tan180^\\circ=0$, we need to make the numerator of the fraction inside the inverse tangent function equal to zero. Therefore, we must find where $\\omega(-\\omega^2+11)=0$. This equation is satisfied when $\\omega=0$ and when $\\omega=\\sqrt{11}=3.32\\frac{rad}{s}$. Because the phase angle is actually $0^\\circ$ when $\\omega=0$, we know that this is not a valid solution (the denominator of the fraction must be a negative real number for $\\phi=180^\\circ$). Therefore, we know that calculating the gain margin means calculating $\\left|GH\\right|$ when $\\omega=3.32\\frac{rad}{s}$. Using the magnitude equation above, we find that:\n",
    "\n",
    "$$\\left|GH\\right|_{\\omega=3.32} = GM^{-1} = .0166$$\n",
    "\n",
    "This means that the system's gain margin is $GM = 60.24$. So we could put the system $G(s)H(s)$ under proportional control with a gain of up to $60.24$ before the system would go unstable. This is easily confirmed using the root locus functionality in MATLAB as shown:"
   ]
  },
  {
   "attachments": {
    "image.png": {
     "image/png": "[encoded data removed]"
    }
   },
   "cell_type": "markdown",
   "metadata": {},
   "source": [
    "![image.png](attachment:image.png)"
   ]
  },
  {
   "cell_type": "markdown",
   "metadata": {},
   "source": [
    "It is also common to find the gain margin using a Bode plot directly. MATLAB's \"margin\" command does this automatically, as shown below:"
   ]
  },
  {
   "cell_type": "code",
   "execution_count": null,
   "metadata": {
    "ExecuteTime": {
     "end_time": "2017-11-22T01:48:20.164154Z",
     "start_time": "2017-11-22T01:48:17.965273Z"
    }
   },
   "outputs": [],
   "source": [
    "clear all\n",
    "s = tf('s');\n",
    "GH = 1/((s+1)*(s+2)*(s+3));\n",
    "margin(GH)"
   ]
  },
  {
   "cell_type": "markdown",
   "metadata": {},
   "source": [
    "Notice the dotted lines that indicate where the phase plot crosses $\\phi=-180^\\circ$. Then, notice the red line that shows the system's magnitude ratio in decibels at this frequency. The plot title gives us precise numbers: The gain margin of this system in decibels is $GM_{dB} = 35.563$. To find the gain margin as a simple number, we  convert:\n",
    "\n",
    "$$GM = 10^{\\frac{GM_{dB}}{20}} = 10^{\\frac{35.563}{20}} = 59.998$$\n",
    "\n",
    "This gives us the same result as before, to a reasonable degree of round-off error. Pretty cool! \n",
    "\n",
    "You'll also notice that the \"margin\" command gives us a value for something called the \"phase margin,\" which is another measure of a system's relative stability. We'll discuss phase margin next."
   ]
  },
  {
   "cell_type": "markdown",
   "metadata": {
    "resourcetopic": "Feedback Control"
   },
   "source": [
    "## Phase Margin\n",
    "\n",
    "The phase margin for an \"open loop transfer function\" is defined as the amount of *phase angle* that could be added or subtracted to a system under *unity feeback* (this means to close the loop around GH with $K=1$) before the system becomes unstable. To find the system's phase margin:\n",
    "\n",
    "1. Find the frequency $\\omega_0$ where the magnitude ratio of $G(j\\omega)H(j\\omega)=1$, or where $G_{dB} = 0$ on the Bode magnitude plot.\n",
    "2. The phase margin $PM = 180^\\circ + \\phi(\\omega_0)$."
   ]
  },
  {
   "cell_type": "markdown",
   "metadata": {},
   "source": [
    "### Why?\n",
    "\n",
    "We can explore why the math behind the phase margin works out using the tools that we have. Remembering that when computing the system's frequency response we are substituting $s=j\\omega$, we know that the  closed loop characteristic equation can be written as:\n",
    "\n",
    "$$\\frac{-1}{K} = G(s)H(s)$$\n",
    "\n",
    "The phase margin is defined for the case when $K=1$, which makes the characteristic equation:\n",
    "\n",
    "$$-1 = G(s)H(s)$$\n",
    "\n",
    "so if $s=j\\omega_0$ is a solution to this form of the characteristic equation (that is, if the system is on the verge of becoming unstable with $K=1$), $G(j\\omega_0)H(j\\omega_0)$ must have a total angle of $\\pm180^\\circ$. Thus, you can think of the phase margin as an \"angle deficiency\" of sorts that tells you how much angle must be added or subtracted to $\\left.\\angle(G(j\\omega)H(j\\omega)\\right|_{\\omega_0}$ in order to satisfy the angle criterion (for a point on the s-plane that borders on unstable!!). \n",
    "\n",
    "Unlike satisfying the angle criterion for a controller design, here we are assuming that we know that at some $s = j\\omega_0$, which represents the system's (marginally stable) eigenvalue at a loop gain $K=1$, the system would be on the verge of instability... so satisfying the angle criterion is a bad thing! But it gives us a relative measure of \"how stable\" our system is for a feedback system with unity gain. \n",
    "\n",
    "So how, you might ask, could you \"add phase\" or \"subtract phase\" to a system $G(s)H(s)$? The most common reason for adding or subtracting phase angle from a system is accidental. Modeling errors can often manifest as phase changes. Remember that when you evaluate the angle $\\left.\\angle(GH)\\right|_{s=j\\omega_0}$, an extra pole will add negative angle (making the phase margin smaller)... the closer the \"extra pole\" is to the origin, the smaller the phase margin will be. This goes hand in hand with the concept of \"dominant poles\" we discussed earlier in the course! If an unmodeled (ignored) pole of $G(s)H(s)$ was very fast, it would not detract much from the phase margin. "
   ]
  },
  {
   "cell_type": "markdown",
   "metadata": {},
   "source": [
    "## Phase Margin: Example\n",
    "\n",
    "The system in our first example actually has an infinite phase margin, because the system never has a magnitude ratio or $1$, or $0dB$. Another way to think about this is that for our original system under feedback with $K=1$, no pole at any (stable) location in the s-plane would change the phase of GH enough to cause instability. Let's amend the example we used before so that we get a non-infinite phase margin. Let's say that our \"open loop transfer function\" is now:\n",
    "\n",
    "$$G(s)H(s) = \\frac{30}{(s+1)(s+2)(s+3)}$$\n",
    "\n",
    "This means that the frequency response equation is given by:\n",
    "\n",
    "$$G(j\\omega)H(j\\omega) = \\frac{30}{(j\\omega)^3+6(j\\omega)^2+11(j\\omega)+6} = \\frac{1}{(-\\omega^3+11\\omega)j+6(1-\\omega^2)}$$\n",
    "\n",
    "Looking at the magnitude equation, we are looking for a frequency $\\omega=\\omega_0$ that causes the magnitude ratio to be $1$.\n",
    "\n",
    "$$\\left|GH\\right| = \\frac{30}{\\sqrt{(-\\omega_0^3+11\\omega_0)^2+(6(1-\\omega_0^2))^2}} = 1$$\n",
    "\n",
    "Solving for $\\omega_0$ here gives:\n",
    "\n",
    "$$30^2 = (-\\omega_0^3+11\\omega_0)^2+(6(1-\\omega_0^2))^2$$\n",
    "\n",
    "Solving this equation via a calculator with a symbolic algebra system or with MATLAB's symbolic toolbox yields 6 solutions, but only one of them is both real and positive. Therefore, $\\omega_0=2.3486\\frac{rad}{s}$, which is the frequency we will use to determine our phase margin. Substituting $\\omega=\\omega_0$ into the phase equation for $G(s)H(s)$, we get:\n",
    "\n",
    "$$\\phi = -\\tan^{-1}\\left(\\frac{-\\omega_0^3+11\\omega_0}{6(1-\\omega_0^2)}\\right) = -154.5758^\\circ$$\n",
    "\n",
    "This gives us a phase margin of:\n",
    "\n",
    "$$PM = 180^\\circ+\\phi(\\omega_0)=25.42^\\circ$$\n",
    "\n",
    "This means that with unity feedback on the \"open loop\" transfer function $GH$, we could have ignored a pole that contributed up to $25.42^\\circ$ of negative phase to the overall transfer function angle $\\left.\\angle(GH)\\right|_{s=j\\omega_0}$ without making the system unstable, *assuming the system's magnitude $|G(s)H(s)|$ does not change when this pole is added*. For our example system, such a pole would lie at $s\\approx-5$. This is shown in the MATLAB cell below, where we compare the original plant under feedback with $K=1$ to the plant with an unmodeled pole around $s=-5$. Take note that this pole is really, really close to the other three! In other words, reduced-order model would **not** have been a good idea here... This system $G(s)H(s) = \\frac{30}{(s+1)(s+2)(s+3)}$ is therefore very \"safe\" in terms of phase margin."
   ]
  },
  {
   "cell_type": "code",
   "execution_count": null,
   "metadata": {
    "ExecuteTime": {
     "end_time": "2017-11-22T02:42:15.403248Z",
     "start_time": "2017-11-22T02:42:13.586383Z"
    }
   },
   "outputs": [],
   "source": [
    "clear all\n",
    "s = tf('s');\n",
    "GH = 30.00/((s+1)*(s+2)*(s+3));\n",
    "\n",
    "K = 1;\n",
    "\n",
    "Gcl = minreal(GH/(1+GH*K));\n",
    "[num,den] = tfdata(Gcl,'v');\n",
    "poles_without_unmodeled_dynamics = roots(den)\n",
    "%phase margin is 25.43 degrees... let's add a pole that subtracts 25 degrees and see what happens\n",
    "%height is 2.35j\n",
    "%tan(extra_phase) = 2.35j/L so L = 2.35/tand(25)\n",
    "%then \"extra pole\" is at s=-L. This extra pole must also NOT change\n",
    "%the absolute value of GH at the crossover freqency, or else it is changing BOTH gain and phase, which \n",
    "%does not allow us to see the effects of unmodeled dynamics changing PHASE only.\n",
    "\n",
    "%to ensure this, we can state that the unmodeled dynamics will have the form\n",
    "%A/(s+L) with L our unmodeled pole. We can find this using trigonometry!\n",
    "L = 2.34856/tand(25)\n",
    "%and at s = 2.346j, or the omega_naught of the original system, we must have abs(A/(s+L)) = 1, or A/abs(s+L) = 1.\n",
    "%therefore, we can state that A = abs(s+L) = abs(2.346j+L)\n",
    "A = abs(2.34856+L)\n",
    "%now, we can construct a transfer function representing our unmodeled dynamics.\n",
    "Punmodeled = A/(s+L);%ALMOST!!\n",
    "%now, we can calculate the closed loop TF with the unmodeled dynamics\n",
    "GH_unstable = GH*Punmodeled;\n",
    "Gcl_unstable = minreal(GH_unstable/(1+K*GH_unstable));\n",
    "%now let's look at the eigenvalues of this \"almost unstable\" system with an extra, unmodeled pole\n",
    "[num,den] = tfdata(Gcl_unstable,'v');\n",
    "poles_unstable = roots(den)\n",
    "%finally, let's compare the step responses of the system with and without the umodeled pole (which ate up the phase margin)\n",
    "step(Gcl,Gcl_unstable)\n",
    "xlim([0 10])\n",
    "ylim([-5 5])"
   ]
  },
  {
   "cell_type": "markdown",
   "metadata": {},
   "source": [
    "Notice that after the unmodeled dynamics (pole at $s=-5.04$) is added, the closed loop system becomes very oscillatory, with a pair of complex conjugate poles almost directly on the imaginary axis (but on the RIGHT hand side). This system is now unstable with $K=1$. Why isn't the eigenvalue directly at s = 2.34856j as it should be? Round-off error!\n",
    "\n",
    "As before, MATLAB/Octave will provide you with phase and gain margins directly using the \"margin\" command, which basically finds the margins visually using the Bode plot itself. To find the phase margin using the Bode plot, you simply find the frequency $\\omega_0$ where $G_{dB}=0$ for the \"open loop transfer function\" $G(s)H(s)$, compute the phase $\\phi(\\omega_0)$ by dropping this line down to the phase plot, and then compute the phase margin $PM=180^\\circ+\\phi(\\omega_0)$."
   ]
  },
  {
   "cell_type": "code",
   "execution_count": null,
   "metadata": {
    "ExecuteTime": {
     "end_time": "2017-11-22T02:18:19.533953Z",
     "start_time": "2017-11-22T02:18:17.819398Z"
    }
   },
   "outputs": [],
   "source": [
    "clear all\n",
    "s = tf('s');\n",
    "GH = 30.00/((s+1)*(s+2)*(s+3));\n",
    "margin(GH)"
   ]
  },
  {
   "cell_type": "markdown",
   "metadata": {},
   "source": [
    "### OK but my root locus gain is not 1... now what?\n",
    "\n",
    "If you wish to find the \"phase margin\" for *your control system*, which has some root locus gain $K$ that is not $1$, you can roll this $K$ value directly into the phase margin's $GH$ transfer function, and then calculate the phase margin as usual, but you will be finding the phase margin for the transfer function $KG(s)H(s)$ rather than just $G(s)H(s)$. This is because you could write the equation: $-1 = KG(s)H(s)$ and use the phase margin procedure outlined above, \"tricking\" the procedure into thinking you are using an \"overall gain\" of 1. This idea is explored in more detail in the next section."
   ]
  },
  {
   "attachments": {
    "image-2.png": {
     "image/png": "[encoded data removed]"
    }
   },
   "cell_type": "markdown",
   "metadata": {},
   "source": [
    "# Using gain and phase margin to assess the robustness of an existing control system design\n",
    "\n",
    "Sometimes, we would like to understand how much \"extra\" gain or \"extra\" phase our system could handle *after we have designed a controller*. \n",
    "\n",
    "The concepts of gain margin and phase margin are not necessarily set up for this. The gain margin's original formulation only gives us the maximum root locus gain $K$ our system's open loop transfer function $G(s)H(s)$ can handle, and the phase margin assumes $K=1$. This means that these measures of relative stability can be computed before a control design is complete.\n",
    "\n",
    "However, we can extend these concepts to understand how close we are to trouble **after we have already made a pass through the design process**. To do this, we can look at a slightly modified version of our canonical block diagram, which includes some \"extra\" gain that might represent error in our design or in our plant model:\n",
    "\n",
    "![image-2.png](attachment:image-2.png)\n",
    "\n",
    "This block diagram has the closed loop transfer function:\n",
    "\n",
    "$$\\frac{y(s)}{r(s)} = \\frac{K_{extra}KC^\\star(s)P(s)}{1+K_{extra}KC^\\star(s)P(s)H(s)}$$\n",
    "\n",
    "Which has the characteristic equation:\n",
    "\n",
    "$$1+K_{extra}KC^\\star(s)P(s)H(s)=0$$\n",
    "\n",
    "This can be re-written as:\n",
    "\n",
    "$$\\frac{-1}{K_{extra}} = G(s)H(s) = KC^\\star(s)P(s)H(s)$$\n",
    "\n",
    "Here, $K$ is our original, design root locus gain. $K_{extra}$ represents some kind of scaling change in the forward path, either from a mistake in our calculation of $P(s)$ or $H(s)$, or because we may have changed our root locus gain $K$ to be something other than what we originally chose in our design. \n",
    "\n",
    "This approach allows us to find the gain margin that represents the \"extra\" root locus gain that could be added to the system before it goes unstable. Similarly, this relieves us of the strange convention that phase margin is always calculated at $K=1$ by allowing us to set $K_{extra} = 1$, so that we can see how sensitive our design is to errors in the phase of $G(s)H(s)$ using our design's (non-unity) root locus gain $K$.\n",
    "\n",
    "\n",
    "# Rules of thumb for gain and phase margins in a control system design\n",
    "\n",
    "So how much gain and phase margin should we shoot for in our designs?\n",
    "\n",
    "[Kulakowski, Gardner, and Shearer](https://www.amazon.com/Dynamic-Modeling-Control-Engineering-Systems/dp/1107650445) report in Chapter 13 of their book \"Dynamic Modeling and Control of Engineering Systems\" that **minimum** \"safe\" gain margins are in the range of $1.2-1.5$ ($1.6dB-3.5dB$, and **minimum** \"safe\" phase margins are in the neighborhood of $30^\\circ-45^\\circ$. If we calculate gain and phase margins using the modified formulation above, the gain margin rule says we should aim to be able to increase our design root locus gain by between 20% and 50% without risk of instability. We should also shoot for a phase margin that allows for an error in phase that contributes -30 degrees to $G(s)H(s)$ at $s=j\\omega_0$.\n",
    "\n",
    "These rules of thumb are fairly widely accepted in the control systems community, so it's something to keep in mind if you're designing a control system: check the gain and phase margins of your \"open loop transfer function\" $G(s)H(s)=K C^\\star (s) P(s) H(s)$ to find out how much \"extra\" gain and phase your system could handle, and use caution if your margins fall outside of these recommended values. Infinite gain and phase margins are, of course, acceptable!"
   ]
  },
  {
   "cell_type": "markdown",
   "metadata": {
    "deletable": false,
    "editable": false,
    "nbgrader": {
     "cell_type": "markdown",
     "checksum": "b56333dba00d6920a8e2c7a6e8951e50",
     "grade": false,
     "grade_id": "cell-6100cc30c8482950",
     "locked": true,
     "schema_version": 3,
     "solution": false
    }
   },
   "source": [
    "# Exercises: Due Wednesday, Dec 8 by MIDNIGHT\n",
    "\n",
    "Answer the following questions:"
   ]
  },
  {
   "cell_type": "markdown",
   "metadata": {
    "deletable": false,
    "editable": false,
    "nbgrader": {
     "cell_type": "markdown",
     "checksum": "d9cc7a826a465e4ee274d12b4b538c1d",
     "grade": false,
     "grade_id": "cell-89b4ffcfd4ff175a",
     "locked": true,
     "schema_version": 3,
     "solution": false
    }
   },
   "source": [
    "# Problem 1\n",
    "\n",
    "Find the gain and phase margins for the following system under proportional control by hand. Show any and all hand calculations, and then use MATLAB/Octave to check using the \"margin\" command. You may print or screenshot a Bode plot to aid you in your \"hand calculations\" if you like.\n",
    "\n",
    "$$P(s) = \\frac{1000}{(s+10)(s^2+2s+10)}$$\n",
    "\n"
   ]
  },
  {
   "cell_type": "markdown",
   "metadata": {
    "deletable": false,
    "nbgrader": {
     "cell_type": "markdown",
     "checksum": "92bc017426891e29729202e8eee8ad85",
     "grade": true,
     "grade_id": "cell-4de822cab1cd927b",
     "locked": false,
     "points": 10,
     "schema_version": 3,
     "solution": true
    }
   },
   "source": [
    "YOUR ANSWER HERE"
   ]
  },
  {
   "cell_type": "code",
   "execution_count": null,
   "metadata": {
    "ExecuteTime": {
     "end_time": "2017-11-26T21:25:27.908709Z",
     "start_time": "2017-11-26T21:25:26.190625Z"
    },
    "deletable": false,
    "nbgrader": {
     "cell_type": "code",
     "checksum": "86b80fc626b0768e1837264a084cb446",
     "grade": true,
     "grade_id": "cell-a83f93dfff83b41b",
     "locked": false,
     "points": 10,
     "schema_version": 3,
     "solution": true
    }
   },
   "outputs": [],
   "source": [
    "% YOUR CODE HERE\n",
    "error('No Answer Given!')"
   ]
  },
  {
   "cell_type": "markdown",
   "metadata": {
    "deletable": false,
    "editable": false,
    "nbgrader": {
     "cell_type": "markdown",
     "checksum": "82c4f335305122bf6c23e7df12f68d7a",
     "grade": false,
     "grade_id": "cell-14c97028a41f8a7d",
     "locked": true,
     "schema_version": 3,
     "solution": false
    }
   },
   "source": [
    "## Problem 2\n",
    "\n",
    "Find the gain and phase margins for the same plant transfer function above, but under proportional-integral control with a control zero at $s=-20$. Show any and all hand calculations, and then use MATLAB/Octave to check using the \"margin\" command. You may print or screenshot a Bode plot to aid you in your \"hand calculations\" if you like."
   ]
  },
  {
   "cell_type": "markdown",
   "metadata": {
    "deletable": false,
    "nbgrader": {
     "cell_type": "markdown",
     "checksum": "6a45af928db9e55d4380ed7d0f362865",
     "grade": true,
     "grade_id": "cell-bf69a9f402fb1e70",
     "locked": false,
     "points": 10,
     "schema_version": 3,
     "solution": true
    }
   },
   "source": [
    "YOUR ANSWER HERE"
   ]
  },
  {
   "cell_type": "code",
   "execution_count": null,
   "metadata": {
    "ExecuteTime": {
     "end_time": "2017-11-26T21:28:55.076275Z",
     "start_time": "2017-11-26T21:28:52.269831Z"
    },
    "deletable": false,
    "nbgrader": {
     "cell_type": "code",
     "checksum": "6df6b92955288106560f27d75b35ca4b",
     "grade": true,
     "grade_id": "cell-b2afeced06bb3e84",
     "locked": false,
     "points": 10,
     "schema_version": 3,
     "solution": true
    }
   },
   "outputs": [],
   "source": [
    "% YOUR CODE HERE\n",
    "error('No Answer Given!')"
   ]
  },
  {
   "cell_type": "markdown",
   "metadata": {
    "ExecuteTime": {
     "end_time": "2017-11-26T21:29:40.823591Z",
     "start_time": "2017-11-26T21:29:40.802166Z"
    },
    "deletable": false,
    "editable": false,
    "nbgrader": {
     "cell_type": "markdown",
     "checksum": "2dafd244c2c6d675cc1860763736b731",
     "grade": false,
     "grade_id": "cell-b06fefbcbb489ca8",
     "locked": true,
     "schema_version": 3,
     "solution": false
    }
   },
   "source": [
    "## Problem 3\n",
    "\n",
    "Briefly discuss the qualitative differences between these two control strategies for this plant (P vs. PI), using *everything* you know about controller design. Comment on the relative stability, achievable eigenvalues, maximum root locus gain to maintain a stable system, steady state error, etc. Show any work that you use to support your analysis. "
   ]
  },
  {
   "cell_type": "markdown",
   "metadata": {
    "deletable": false,
    "nbgrader": {
     "cell_type": "markdown",
     "checksum": "1bae2181cba8bed8ec3fbc3049dbbe5a",
     "grade": true,
     "grade_id": "cell-8e53d7ce68b6f86e",
     "locked": false,
     "points": 10,
     "schema_version": 3,
     "solution": true
    }
   },
   "source": [
    "YOUR ANSWER HERE"
   ]
  }
 ],
 "metadata": {
  "kernelspec": {
   "display_name": "Octave",
   "language": "octave",
   "name": "octave"
  },
  "language_info": {
   "file_extension": ".m",
   "help_links": [
    {
     "text": "GNU Octave",
     "url": "https://www.gnu.org/software/octave/support.html"
    },
    {
     "text": "Octave Kernel",
     "url": "https://github.com/Calysto/octave_kernel"
    },
    {
     "text": "MetaKernel Magics",
     "url": "https://metakernel.readthedocs.io/en/latest/source/README.html"
    }
   ],
   "mimetype": "text/x-octave",
   "name": "octave",
   "version": "4.2.2"
  },
  "toc": {
   "base_numbering": 1,
   "nav_menu": {},
   "number_sections": true,
   "sideBar": true,
   "skip_h1_title": false,
   "title_cell": "Table of Contents",
   "title_sidebar": "Contents",
   "toc_cell": true,
   "toc_position": {},
   "toc_section_display": true,
   "toc_window_display": false
  }
 },
 "nbformat": 4,
 "nbformat_minor": 4
}
