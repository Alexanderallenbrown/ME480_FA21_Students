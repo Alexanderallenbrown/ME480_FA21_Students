{
 "cells": [
  {
   "cell_type": "markdown",
   "metadata": {
    "toc": true
   },
   "source": [
    "<h1>Table of Contents<span class=\"tocSkip\"></span></h1>\n",
    "<div class=\"toc\"><ul class=\"toc-item\"><li><span><a href=\"#Exercise:-Due-MONDAY,-11/1/2020-BEFORE-CLASS\" data-toc-modified-id=\"Exercise:-Due-MONDAY,-11/1/2020-BEFORE-CLASS-1\"><span class=\"toc-item-num\">1&nbsp;&nbsp;</span>Exercise: Due MONDAY, 11/1/2020 BEFORE CLASS</a></span><ul class=\"toc-item\"><li><span><a href=\"#Controller-Design:-PI-Controller-using-Angle-Deficiency\" data-toc-modified-id=\"Controller-Design:-PI-Controller-using-Angle-Deficiency-1.1\"><span class=\"toc-item-num\">1.1&nbsp;&nbsp;</span><em>Controller Design:</em> PI Controller using Angle Deficiency</a></span></li></ul></li></ul></div>"
   ]
  },
  {
   "cell_type": "markdown",
   "metadata": {
    "deletable": false,
    "editable": false,
    "nbgrader": {
     "cell_type": "markdown",
     "checksum": "f829163903bba27212e77a5f14e3c47e",
     "grade": false,
     "grade_id": "cell-8a5807cbb8fe6e56",
     "locked": true,
     "schema_version": 3,
     "solution": false
    }
   },
   "source": [
    "## Exercise: Due MONDAY, 11/1/2020 BEFORE CLASS\n",
    "\n",
    "### *Controller Design:* PI Controller using Angle Deficiency \n",
    "\n",
    "Having developed a plant transfer function for the **MOTOR-SPRING-LOAD** configuration in Lab 5, let us assume that with the **RIGID SHAFT** installed instead of the flexible spring-shaft, the motor's open loop behavior is adequately represented by the **FIRST ORDER PART** of the **MOTOR-SPRING-LOAD** model you derived. If you make this assumption, you can design a PI controller on velocity for the lab rig in the **MOTOR-RIGID SHAFT- LOAD** configuration. \n",
    "\n",
    "Using the angle deficiency method for controller design, design a controller such that the closed loop system's dominant eigenvalue pair is underdamped with $\\zeta = 0.5$ and $\\omega_n = 30 rad/s$. In this case, if you like, you could also check your solutions by designing the controller using the \"direct method\" because the closed loop system is only second order.\n",
    "\n",
    "* Place your hand calculations in the Markdown cell below using typeset equations or a picture (small file size please! Screenshots or images from a dedicated \"scanning app\" work best).\n",
    "* Place MATLAB code in the Octave cell below that shows a simulation of your system's closed-loop step response for a 25 rad/s step change in requested velocity, considering *actual* velocity as the output. **Also plot a simulation of the predicted voltage u(s) sent from the Arduino to the PWMA**. Indicate whether you think this design is feasible with your lab hardware. If it is feasible, what is the maximum step size you'd recommend to ensure that a linear simulation would represent actual system behavior? If it is not feasible, why not?"
   ]
  },
  {
   "cell_type": "markdown",
   "metadata": {
    "deletable": false,
    "nbgrader": {
     "cell_type": "markdown",
     "checksum": "ea65af924dac2cfc1b9c4478c3dc3a9c",
     "grade": true,
     "grade_id": "cell-287f4e8eaa4ff182",
     "locked": false,
     "points": 10,
     "schema_version": 3,
     "solution": true
    }
   },
   "source": [
    "YOUR ANSWER HERE"
   ]
  },
  {
   "cell_type": "code",
   "execution_count": null,
   "metadata": {
    "deletable": false,
    "nbgrader": {
     "cell_type": "code",
     "checksum": "8a0d3b54d9bde6cbaf214f5227f54e44",
     "grade": true,
     "grade_id": "cell-338bbf6d8fa104b0",
     "locked": false,
     "points": 10,
     "schema_version": 3,
     "solution": true
    }
   },
   "outputs": [],
   "source": [
    "% YOUR CODE HERE\n",
    "error('No Answer Given!')"
   ]
  }
 ],
 "metadata": {
  "kernelspec": {
   "display_name": "Octave",
   "language": "octave",
   "name": "octave"
  },
  "language_info": {
   "file_extension": ".m",
   "help_links": [
    {
     "text": "GNU Octave",
     "url": "https://www.gnu.org/software/octave/support.html"
    },
    {
     "text": "Octave Kernel",
     "url": "https://github.com/Calysto/octave_kernel"
    },
    {
     "text": "MetaKernel Magics",
     "url": "https://metakernel.readthedocs.io/en/latest/source/README.html"
    }
   ],
   "mimetype": "text/x-octave",
   "name": "octave",
   "version": "4.2.2"
  },
  "toc": {
   "base_numbering": 1,
   "nav_menu": {},
   "number_sections": true,
   "sideBar": true,
   "skip_h1_title": true,
   "title_cell": "Table of Contents",
   "title_sidebar": "Contents",
   "toc_cell": true,
   "toc_position": {},
   "toc_section_display": true,
   "toc_window_display": false
  }
 },
 "nbformat": 4,
 "nbformat_minor": 2
}
