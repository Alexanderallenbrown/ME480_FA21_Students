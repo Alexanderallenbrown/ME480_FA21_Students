{
 "cells": [
  {
   "cell_type": "markdown",
   "metadata": {
    "toc": "true"
   },
   "source": [
    "<h1>Table of Contents<span class=\"tocSkip\"></span></h1>\n",
    "<div class=\"toc\"><ul class=\"toc-item\"><li><span><a href=\"#Challenge\" data-toc-modified-id=\"Challenge-1\"><span class=\"toc-item-num\">1&nbsp;&nbsp;</span>Challenge</a></span></li><li><span><a href=\"#Anatomy-of-the-closed-loop-control-system\" data-toc-modified-id=\"Anatomy-of-the-closed-loop-control-system-2\"><span class=\"toc-item-num\">2&nbsp;&nbsp;</span>Anatomy of the closed-loop control system</a></span></li><li><span><a href=\"#The-P(I)(D)-Controller\" data-toc-modified-id=\"The-P(I)(D)-Controller-3\"><span class=\"toc-item-num\">3&nbsp;&nbsp;</span>The P(I)(D) Controller</a></span></li><li><span><a href=\"#Controller-Design:--P(I)(D)-Controller-Disciplined-Process\" data-toc-modified-id=\"Controller-Design:--P(I)(D)-Controller-Disciplined-Process-4\"><span class=\"toc-item-num\">4&nbsp;&nbsp;</span><em>Controller Design:</em>  P(I)(D) Controller Disciplined Process</a></span></li><li><span><a href=\"#Controller-Design:-Proportional-(P)-Control\" data-toc-modified-id=\"Controller-Design:-Proportional-(P)-Control-5\"><span class=\"toc-item-num\">5&nbsp;&nbsp;</span><em>Controller Design:</em> Proportional (P) Control</a></span><ul class=\"toc-item\"><li><span><a href=\"#Example\" data-toc-modified-id=\"Example-5.1\"><span class=\"toc-item-num\">5.1&nbsp;&nbsp;</span>Example</a></span></li></ul></li><li><span><a href=\"#Exercise---Due-at-the-beginning-of-class-on-Friday-10/1\" data-toc-modified-id=\"Exercise---Due-at-the-beginning-of-class-on-Friday-10/1-6\"><span class=\"toc-item-num\">6&nbsp;&nbsp;</span>Exercise - Due at the beginning of class on Friday 10/1</a></span><ul class=\"toc-item\"><li><span><a href=\"#Model-Validation:-Confirm-that-your-linearized-model-fits-a-step-response\" data-toc-modified-id=\"Model-Validation:-Confirm-that-your-linearized-model-fits-a-step-response-6.1\"><span class=\"toc-item-num\">6.1&nbsp;&nbsp;</span><em>Model Validation:</em> Confirm that your linearized model fits a step response</a></span></li><li><span><a href=\"#Controller-Design:-P--Control\" data-toc-modified-id=\"Controller-Design:-P--Control-6.2\"><span class=\"toc-item-num\">6.2&nbsp;&nbsp;</span><em>Controller Design:</em> P- Control</a></span></li><li><span><a href=\"#THE-SIMULATION-HAS-BEEN-UPDATED\" data-toc-modified-id=\"THE-SIMULATION-HAS-BEEN-UPDATED-6.3\"><span class=\"toc-item-num\">6.3&nbsp;&nbsp;</span>THE SIMULATION HAS BEEN UPDATED</a></span></li><li><span><a href=\"#Controller-Validation:\" data-toc-modified-id=\"Controller-Validation:-6.4\"><span class=\"toc-item-num\">6.4&nbsp;&nbsp;</span><em>Controller Validation:</em></a></span><ul class=\"toc-item\"><li><span><a href=\"#Update-your-data-collection-code-add-a-proportional-control-law\" data-toc-modified-id=\"Update-your-data-collection-code-add-a-proportional-control-law-6.4.1\"><span class=\"toc-item-num\">6.4.1&nbsp;&nbsp;</span>Update your data collection code add a proportional control law</a></span></li></ul></li></ul></li></ul></div>"
   ]
  },
  {
   "cell_type": "markdown",
   "metadata": {
    "deletable": false,
    "editable": false,
    "nbgrader": {
     "cell_type": "markdown",
     "checksum": "2ed28c6742d9333bae52c40b746b185b",
     "grade": false,
     "grade_id": "cell-13988e4f07013ef4",
     "locked": true,
     "schema_version": 3,
     "solution": false,
     "task": false
    }
   },
   "source": [
    "# Challenge\n",
    "\n",
    "Your friend has been patiently waiting for a design for an automatic dam control system.  They've provided you specifications for the design and now you are going to have to use your knowledge of transfer functions, including  steady state and transient behavior, to design a closed-loop controller to regulate the dam's turbine speed."
   ]
  },
  {
   "cell_type": "markdown",
   "metadata": {
    "deletable": false,
    "editable": false,
    "nbgrader": {
     "cell_type": "markdown",
     "checksum": "87cfc8348bc69c351be03d49baf12dc9",
     "grade": false,
     "grade_id": "cell-ff3734c1e037939d",
     "locked": true,
     "schema_version": 3,
     "solution": false
    },
    "resourcetopic": "Feedback Control"
   },
   "source": [
    "# Anatomy of the closed-loop control system\n",
    "\n",
    "In your last notebook you were introduced to the \"canonical\" form of a system under feedback control, which is shown in the diagram below:"
   ]
  },
  {
   "cell_type": "markdown",
   "metadata": {
    "collapsed": true,
    "deletable": false,
    "editable": false,
    "nbgrader": {
     "cell_type": "markdown",
     "checksum": "59e7fbf5b4faeb14272fe88d92701248",
     "grade": false,
     "grade_id": "cell-ffea2a7a802233e8",
     "locked": true,
     "schema_version": 3,
     "solution": false
    },
    "resourcetopic": "Feedback Control"
   },
   "source": [
    "<img src=\"data:image/png;base64,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\" style=\"cursor:pointer;max-width:100%;\" onclick=\"(function(img){if(img.wnd!=null&&!img.wnd.closed){img.wnd.focus();}else{var r=function(evt){if(evt.data=='ready'&&evt.source==img.wnd){img.wnd.postMessage(decodeURIComponent(img.getAttribute('src')),'*');window.removeEventListener('message',r);}};window.addEventListener('message',r);img.wnd=window.open('https://www.draw.io/?client=1&lightbox=1&edit=_blank');}})(this);\"/>"
   ]
  },
  {
   "cell_type": "markdown",
   "metadata": {
    "deletable": false,
    "editable": false,
    "nbgrader": {
     "cell_type": "markdown",
     "checksum": "7d514402671662dcd72a6e1d1e7dfc14",
     "grade": false,
     "grade_id": "cell-1b5d56d8d74403d0",
     "locked": true,
     "schema_version": 3,
     "solution": false
    },
    "resourcetopic": "Feedback Control"
   },
   "source": [
    "In the diagram above, as labeled, the system has the following key pieces:\n",
    "\n",
    "* The **plant** (labeled G(s) above) is the system, subsystem, or process that is controlled by our feedback controller\n",
    "* The **controlled output** (labeled y(s) above) is the output variable of the *plant* under control of the feedback controller\n",
    "* The **forward path** is the transmission path from the sum junction all the way to the controlled output.\n",
    "* The **feedforward elements** are all control or compensation elements in the forward path. In the example above, this is just C(s).\n",
    "* The **control signal** (labeled u(s) above) is the output signal of the feedforward elements (C(s)) that is applied to the plant G(s).\n",
    "* The **feedback path** is the transmission path from the controlled output back to the sum junction.\n",
    "* The **feedback elements** (labeled H(s)) relate the *actual* controlled output y(s) and the feedback signal read by the controller at the sum junction. Most often, H(s) represents a sensor that has some gain and filtering characteristics that apply in the act of measuring the system output.\n",
    "* The **reference input** (labeled r(s)) is an external signal signal applied to the system. This is usually our \"request\" for the system to do something.\n",
    "* The **primary feedback signal** (labeled y(s)H(s)) is a function of the controlled output y(s), transformed by the feedback elements H(s). This is the signal that is usually actually read by the controller.\n",
    "* The **error signal** is the difference between the reference input and the primary feedback signal.\n",
    "* **Negative feedback** implies that the sum junction *subtracts* r-yH. **Positive feedback** would imply that the sum junction adds r+yH. Negative feedback is nearly always used in feedback control.\n",
    "\n",
    "We saw in the last reading that the canonical feedback control system has a closed-loop transfer function:\n",
    "\n",
    "\\begin{equation}\n",
    "\\frac{y(s)}{u(s)} = \\frac{CG}{1+CGH}\n",
    "\\end{equation}\n",
    "\n",
    "But what does this really mean? Note that the controller transfer function, *chosen by the engineer*, shows up in both the numerator and the denominator of the closed loop transfer function.  This means that the addition of the controller and feedback to the plant *changes the dynamics of the plant output*. This is precisely what we want, if our goal is to improve system performance. In simple terms, $C(s)$ is a transfer function that \"makes decisions\" about how hard to \"push\" the plant based on the difference between where the system *is* at any given instant ($y(s)H(s)$), and where the operator *wants the system to be* ($r(s)$). \n",
    "\n",
    "# The P(I)(D) Controller\n",
    "\n",
    "In this course, we will focus on variants of the PID or \"proportional-integral-derivative\" controller, which has the following general transfer function:\n",
    "\n",
    "\\begin{equation}\n",
    "C(s) = \\frac{u(s)}{e(s)}= K_p + K_i\\frac{1}{s} + K_ds\n",
    "\\end{equation}\n",
    "\n",
    "The PID controller responds to the error proportionally (P-control), and/or the error's derivative proportionally (D-control), and/or the error's integral proportionally (I-control). PID control almost always includes a P-control element in the form of $K_p$, but often, $K_i$ and/or $K_d$ can be set to zero depending on the needs of the engineer and/or the plant. This week, we will focus on how variants of this general design work **for simple first and second order systems**. We'll use simplified examples and the so-called \"direct method\" of determining closed-loop system performance (see, for more information, chapters 3 and 4 of Schaum's Outline of Feedback and Control Systems or Sections 13.1-13.3 of Dynamic Modeling and Control of Engineering Systems) to build an understanding of how each type of controller works before diving into some more involved design tools that will allow us to apply these controllers effectively to more complex systems.\n",
    "\n",
    "When synthesizing P(I)(D) controllers, we can have a number of different design goals. Some of these are listed below:\n",
    "\n",
    "* Above all, we want to ensure system *stability,* defined as the closed loop system having eigenvalues with real parts strictly less than 0. We also generally want to know *how stable* a system is.. in other words, how close is it to being unstable?\n",
    "* If the system is first order, we may want to change its time constant.\n",
    "* If the system is second order, we may want to specify its natural frequency and/or damping ratio.\n",
    "* If the system is second order, we may want to specify its [rise time, settling time, or percent overshoot](http://faculty.mercer.edu/jenkins_he/documents/2ndorderresponseMSD.pdf). \n",
    "* We may want the system to achieve a particular performance in tracking a step or ramp input to $r(s)$.\n",
    "* We may want the system to achieve a particular performance in rejecting an impulse or step *disturbance input* (not shown above, but disturbances are usually modeled as appearing as an input to a sum junction in between $C(s)$ and the plant $G(s)$).\n",
    "* We may want the system to achieve particular magnitude and/or phase performance when tracking a sinusoidal input of a known frequency on $r(s)$."
   ]
  },
  {
   "cell_type": "markdown",
   "metadata": {
    "deletable": false,
    "editable": false,
    "nbgrader": {
     "cell_type": "markdown",
     "checksum": "15b881e027fd79b0d47f1350578c23f5",
     "grade": false,
     "grade_id": "cell-78d3f95d15be99e5",
     "locked": true,
     "schema_version": 3,
     "solution": false,
     "task": false
    },
    "resourcetopic": "Feedback Control"
   },
   "source": [
    "# *Controller Design:*  P(I)(D) Controller Disciplined Process\n",
    "\n",
    "1. Beginning with a validated system model for the plant, determine the equations and/or system transfer function for each component of the system (e.g. $C(s)$,$G(s)$,$H(s)$, etc.)\n",
    "2. Formulate a model of the total, controlled system by appropriately connecting the system elements using a block diagram. The canonical form above is usually, but not always, a good starting point.\n",
    "3. Determine controller parameters  ($K_p$,$K_d$,$K_i$) and determine the system response characteristics under the chosen control paradigm.\n",
    "\n",
    "Of course, following this design process, you should try to validate your design by implementing it on the real system and see if it performs as expected.\n",
    "\n",
    "Much of what we'll discuss roughly follows the material in Chapter 10 of Schaum's Outline of Feedback and Control Systems. We will deal with how to handle most of these design goals as needed, but it is helpful to know where we are going. To begin our journey, let's take a closer look at so-called \"P-control,\" which is a special case of PID control with $K_d$ and $K_i$ set to 0."
   ]
  },
  {
   "cell_type": "markdown",
   "metadata": {
    "deletable": false,
    "editable": false,
    "nbgrader": {
     "cell_type": "markdown",
     "checksum": "a115a0b48054e85832ecc33ae468d7f3",
     "grade": false,
     "grade_id": "cell-53b228815458be55",
     "locked": true,
     "schema_version": 3,
     "solution": false
    },
    "resourcetopic": "Feedback Control"
   },
   "source": [
    "# *Controller Design:* Proportional (P) Control\n",
    "\n",
    "Proportional control is the simplest form of the PID feedback control paradigm. This controller 'pushes' on the plant *proportionally* to the error between the reference input and the plant output. As the system gets closer to the desired value of the output, the controller pushes less and less hard.  You might think of this controller like a \"spring\" that drives the plant to the desired output. For a proportional controller, the controller transfer function is a constant $K_p$. Formally, we write:\n",
    "\n",
    "\\begin{equation}\n",
    "\\frac{u(s)}{e(s)}=C(s) = K_p\n",
    "\\end{equation}\n",
    "\n",
    "**Knowing the units of your controller's gain(s) is extremely important**.  Often $e(s)$ and $u(s)$ will often have different units. This means that the value of $K_p$ will assume the units needed to make a dimensional analysis work out. \n",
    "\n",
    "For example, if $e(s)$ is a distance error measured in meters, and $u(s)$ is a voltage input to a motor measured in Volts, then the controller's proportional constant $k_p$ must have units of $\\frac{V}{m}$. "
   ]
  },
  {
   "cell_type": "markdown",
   "metadata": {
    "deletable": false,
    "editable": false,
    "nbgrader": {
     "cell_type": "markdown",
     "checksum": "f3e6f1a956496ef45a2cdfdbb81a47bb",
     "grade": false,
     "grade_id": "cell-cff0573261ccb1be",
     "locked": true,
     "schema_version": 3,
     "solution": false
    }
   },
   "source": [
    "## Example\n",
    "\n",
    "**Fixed Assumptions**\n",
    "\n",
    "Consider a plant $P(s) = \\frac{1}{s+1}$. Design a proportional controller to make this system track a step input, and achieve steady-state in less than 1 second. The system uses a sensor that measures the plant's output $y(s)$ perfectly with a gain of $1$. After designing your controller, find the maximum controller output $u(s)$ needed for a unit step input, and find the system's steady-state error between reference input and system output.\n",
    "___\n",
    "\n",
    "**Process**\n",
    "\n",
    "To decipher the design goal, note that we often assume that [a first-order system reaches steady state in roughly 5 time constants](../W03A_Modeling_MathematicalTools/Week03A_Modeling_MathematicalTools.ipynb#Settling-Time). Therefore, we can say that we'd like our system to have a time constant of 0.2 seconds or less. \n",
    "\n",
    "Because the problem also states that the sensing in the system is 'perfect,' we can say that $H(s)=1$ as this means the output will feed back to the system without any modifications. \n",
    "\n",
    "We will chose a proportional controller to this system and use the canonical form of the closed loop transfer function developed from  [block diagram simplification](../W04B_Modeling_TransferFunctions_BlockDiagrams/W04B_TransferFunctions_BlockDiagrams.ipynb#Block-Diagram-Simplification-using-algebra).  Substituting the proprotional control law and our plant into this form of $\\frac{y(s)}{r(s)}$ yields\n",
    "\n",
    "\\begin{equation}\n",
    "\\frac{y(s)}{r(s)} = \\frac{K_p\\frac{1}{s+1}}{1+K_p\\frac{1}{s+1}}\n",
    "\\end{equation}\n",
    "\n",
    "Clearing the fractions in the numerator and denominator by multiplying the transfer function by $\\frac{s+1}{s+1}$ yields the final equation for the system's *closed loop transfer function*:\n",
    "\n",
    "\\begin{equation}\n",
    "G_{cl}(s) = \\frac{y(s)}{r(s)} = \\frac{K_p}{s+1+K_p}\n",
    "\\end{equation}\n",
    "\n",
    "Now, we have to determine what value of $K_p$ will allow us to reach our design goal of $\\tau<0.2s$.  \n",
    "\n",
    "Note that a first order system response [can be represented generically as $\\frac{A}{s+a}$](../W04B_Modeling_TransferFunctions_BlockDiagrams/W04B_TransferFunctions_BlockDiagrams.ipynb#Example:-Laplace-Transform-solution-of-a-first-order-system-2.1).   Examining the denominator, we can use it to write the characteristic equation of the system and determine the root of the equation which is the system eigenvalue.\n",
    "\n",
    "\\begin{equation}\n",
    "s+a=0, s=-a\n",
    "\\end{equation}\n",
    "\n",
    "The [time constant](../W03A_Modeling_MathematicalTools/Week03A_Modeling_MathematicalTools.ipynb#Time-Constant) can be determined from $\\tau=\\frac{1}{a}$, where $-a$ represents the system eigenvalue.  \n",
    "\n",
    "In the case of our controller, we can meet the design constraints by having a time constant of 0.2 seconds so we want a system with $-a=-5$. Solving the system's closed-loop characteristic equation means solving:\n",
    "\n",
    "\\begin{equation}\n",
    "s+1+K_p=0\n",
    "\\end{equation}\n",
    "\n",
    "This yields a system eigenvalue $-a=-1-K_p$, so for our example, we know that $K_p=4$ will satisfy our design requirement. Let's simulate the closed-loop system's response to a step input on $r(s)$."
   ]
  },
  {
   "cell_type": "code",
   "execution_count": null,
   "metadata": {
    "ExecuteTime": {
     "end_time": "2017-09-22T01:38:07.861907Z",
     "start_time": "2017-09-22T01:38:05.187489Z"
    },
    "deletable": false,
    "editable": false,
    "init_cell": true,
    "nbgrader": {
     "cell_type": "code",
     "checksum": "68d3f3d7eccda9dd8602703916509f77",
     "grade": false,
     "grade_id": "cell-c0dbe20796cda01b",
     "locked": true,
     "schema_version": 3,
     "solution": false
    }
   },
   "outputs": [],
   "source": [
    "s = tf('s');\n",
    "t = 0:.001:1.5;%go a little past where we said the system should be at steady state\n",
    "G1 = 1/(s+1);\n",
    "Kp = 4;\n",
    "Gcl = G1*Kp/(1+G1*Kp);\n",
    "\n",
    "[ysim,tsim]=step(Gcl,t);%simulate without plotting so we store variables.\n",
    "\n",
    "figure\n",
    "plot(tsim,ysim,'k')\n",
    "xlabel('Time (s)')\n",
    "ylabel('System Output (?)')"
   ]
  },
  {
   "cell_type": "markdown",
   "metadata": {
    "deletable": false,
    "editable": false,
    "nbgrader": {
     "cell_type": "markdown",
     "checksum": "bf13b057b9736e4e8805d4f5175f937b",
     "grade": false,
     "grade_id": "cell-eecdda0f11d6c782",
     "locked": true,
     "schema_version": 3,
     "solution": false
    }
   },
   "source": [
    "As you can see, our controlled system does a pretty good job of getting to steady-state by 1 second, but there's a problem... one of our design goals was for the system to track the reference input $r(s)$. Because $r(s)$ was a unit step, we might have expected that our system would reach a steady-state value of 1, but it doesn't! To show how the system's error progresses over time, we can simply take the constant value of $r(s)$ (which in this case was just 1) and subtract the system's output under closed loop control from $r(s)$, since the error signal $e(s)=r(s)-y(s)H(s)$. Alternatively, we could use some block diagram algebra to find the transfer function $\\frac{e(s)}{r(s)}$ directly. I'll leave the details of this to you to try (highly recommended for practice!), but if we do the reduction, we find that the transfer function $\\frac{e(s)}{r(s)}$ for our controlled system is:\n",
    "\n",
    "\\begin{equation}\n",
    "\\frac{e(s)}{r(s)} = \\frac{s+1}{s+5}\n",
    "\\end{equation}\n",
    "\n",
    "Applying the [final value theorem](../W04B_Modeling_TransferFunctions_BlockDiagrams/W04B_TransferFunctions_BlockDiagrams.ipynb#The-Final-Value-Theorem:-Find-a-model's-steady-state,-final-value) can get us an answer about how much steady-state error we will have in response to a unit step input:\n",
    "\n",
    "\\begin{equation}\n",
    "\\lim_{t\\rightarrow \\infty} e(t) = \\lim_{s\\rightarrow 0} s e(s) = \\lim_{s\\rightarrow 0} s\\frac{1}{s}\\frac{s+1}{s+5} = 0.2\n",
    "\\end{equation}\n",
    "\n",
    "So it appears that our controller, while it does meet the requirement to reach steady state within 1 second, doesn't do a great job of tracking our reference input! Unless we're ok with $20\\%$ tracking error even for a simple step input, we'll need something else to do better. Let's plot the system's error response using MATLAB/Octave:"
   ]
  },
  {
   "cell_type": "code",
   "execution_count": null,
   "metadata": {
    "ExecuteTime": {
     "end_time": "2017-09-23T18:56:10.558620Z",
     "start_time": "2017-09-23T18:56:08.248786Z"
    },
    "deletable": false,
    "editable": false,
    "init_cell": true,
    "nbgrader": {
     "cell_type": "code",
     "checksum": "2c85ad973e76aab929a4ccd2f318e72c",
     "grade": false,
     "grade_id": "cell-231db893961d1763",
     "locked": true,
     "schema_version": 3,
     "solution": false
    }
   },
   "outputs": [],
   "source": [
    "\n",
    "%create our TF from e to y\n",
    "G_e_y = (s+1)/(s+5);\n",
    "\n",
    "%now see how it responds to a step input\n",
    "\n",
    "[yey,tey] = step(G_e_y,t);\n",
    "\n",
    "figure\n",
    "plot(t,yey,'k')\n",
    "xlabel('Time (s)')\n",
    "ylabel('tracking error')"
   ]
  },
  {
   "cell_type": "markdown",
   "metadata": {
    "deletable": false,
    "editable": false,
    "nbgrader": {
     "cell_type": "markdown",
     "checksum": "9d38ec9315df75a0fc048ba420aa8f18",
     "grade": false,
     "grade_id": "cell-51ff2a50a8e187ae",
     "locked": true,
     "schema_version": 3,
     "solution": false
    }
   },
   "source": [
    "It appears that the error acts as we'd expect. The error signal could also have been found by simply subtracting $y$ from $r$ given our original step response. To see how much system input would have been required to achieve this step response from our controller, we need to plot the step response of the transfer function $\\frac{u(s)}{r(s)}$, or in this case, we can simply multiply $e(s)$ by $K_p$. This implies that the maximum controller output needed for the unit step is $4$ \"units.\" These units could be voltage if our controller drove an electric motor, pump, solenoid, or similar electromechanical device, for instance."
   ]
  },
  {
   "cell_type": "markdown",
   "metadata": {
    "deletable": false,
    "editable": false,
    "nbgrader": {
     "cell_type": "markdown",
     "checksum": "c9635d832a831b161bf47ef9b8330b51",
     "grade": false,
     "grade_id": "cell-8a597699be48b928",
     "locked": true,
     "schema_version": 3,
     "solution": false
    }
   },
   "source": [
    "# Exercise - Due at the beginning of class on Friday 10/1"
   ]
  },
  {
   "cell_type": "markdown",
   "metadata": {
    "deletable": false,
    "editable": false,
    "nbgrader": {
     "cell_type": "markdown",
     "checksum": "fd7f9935d61768349375a86d9d79628c",
     "grade": false,
     "grade_id": "cell-4754f6b8b6519c79",
     "locked": true,
     "schema_version": 3,
     "solution": false,
     "task": false
    }
   },
   "source": [
    "In this exercise, you will use what you now know about block diagrams, and combine it with your **linearized model** relating penstock valve position to turbine speed to design a **proportional control system** to regulate turbine speed by modulating the valve position. \n",
    "\n",
    "**This means that our design will only be valid for small requests in changing turbine speed from the turbie's NOP.**\n",
    "\n",
    "A simulator is provided for you below."
   ]
  },
  {
   "cell_type": "code",
   "execution_count": null,
   "metadata": {
    "deletable": false,
    "editable": false,
    "hide_input": true,
    "init_cell": true,
    "nbgrader": {
     "cell_type": "code",
     "checksum": "9d1b46757dab283bb3f3feec1a1f0617",
     "grade": false,
     "grade_id": "cell-b9c2afe714073bcd",
     "locked": true,
     "schema_version": 3,
     "solution": false,
     "task": false
    }
   },
   "outputs": [],
   "source": [
    "%%html\n",
    "<iframe id=\"inlineFrameExample\" title=\"Inline Frame Example\" width=\"1000\" height=\"900\" src=\"https://workbench.lafayette.edu/~brownaa/ME480/damsim/damsim_w5m.html\"> </iframe>"
   ]
  },
  {
   "cell_type": "markdown",
   "metadata": {
    "deletable": false,
    "editable": false,
    "nbgrader": {
     "cell_type": "markdown",
     "checksum": "083409b758d8799b298ff16de0e81f09",
     "grade": false,
     "grade_id": "cell-322e044614d7477d",
     "locked": true,
     "schema_version": 3,
     "solution": false,
     "task": false
    }
   },
   "source": [
    "## *Model Validation:* Confirm that your linearized model fits a step response\n",
    "\n",
    "To confirm that your model fits the turbine's behavior near an NOP, re-produce the validation step from Week 4 Monday. If your model did not work well then, this is your chance to improve it. If (and only if) you do make model changes, paste them in the markdown cell below. If you do not make changes, simply reproduce your results from Week 4 Monday, section 2.2.2 in the code cell below. You must show model agreement with data on one set of axes for the following experiment:\n",
    "\n",
    ">Using the simulator, set the initial condition by beginning with the dam overflowing and the valve **open** at 40% before data collection begins. Allow the turbine to come to a steady state speed.  Once the system is at steady state, the user presses a button, the valve percentage should be increased to 50% while data are collected for 5 seconds. **Be sure the electrical system is disconnected for this test**\n"
   ]
  },
  {
   "attachments": {},
   "cell_type": "markdown",
   "metadata": {
    "deletable": false,
    "nbgrader": {
     "cell_type": "markdown",
     "checksum": "ae2d9dd95f4a4e6bdae4f86b5e2f4272",
     "grade": true,
     "grade_id": "cell-8ec117a71cbcd02e",
     "locked": false,
     "points": 0,
     "schema_version": 3,
     "solution": true,
     "task": false
    }
   },
   "source": [
    "YOUR ANSWER HERE"
   ]
  },
  {
   "cell_type": "code",
   "execution_count": null,
   "metadata": {
    "deletable": false,
    "nbgrader": {
     "cell_type": "code",
     "checksum": "a53d204cf0e9f87febab1d5644fbed05",
     "grade": true,
     "grade_id": "cell-4c7f59437fe89e27",
     "locked": false,
     "points": 5,
     "schema_version": 3,
     "solution": true,
     "task": false
    }
   },
   "outputs": [],
   "source": [
    "% YOUR CODE HERE\n",
    "error('No Answer Given!')"
   ]
  },
  {
   "cell_type": "markdown",
   "metadata": {
    "deletable": false,
    "editable": false,
    "nbgrader": {
     "cell_type": "markdown",
     "checksum": "f9c84c59c3882ea257cb66a31fe642ac",
     "grade": false,
     "grade_id": "cell-fa811cd117017ed4",
     "locked": true,
     "schema_version": 3,
     "solution": false,
     "task": false
    }
   },
   "source": [
    "## *Controller Design:* P- Control"
   ]
  },
  {
   "cell_type": "markdown",
   "metadata": {
    "deletable": false,
    "editable": false,
    "nbgrader": {
     "cell_type": "markdown",
     "checksum": "b7861174e1eb7d998badd9a4065627df",
     "grade": false,
     "grade_id": "cell-011a0f6c31b56dd9",
     "locked": true,
     "schema_version": 3,
     "solution": false,
     "task": false
    }
   },
   "source": [
    "Design a P-controller for the dam system. You know that the \"correct\" valve position is *somewhere around* 40% to achieve the *total* turbine speed $\\Omega$ you want the dam to run at. However, you want to be more precise than this, so you implement a proportional feedback controller to help regulate the turbine's speed.\n",
    "\n",
    "Your P-controller should modulate the change in valve position above or below 40%, which we called $\\Delta u_v$ in Week 4 Monday, to slightly open or close the valve to achieve a desired turbine speed.\n",
    "\n",
    "Your controller design goal should be to achieve a steady-state error between desired and true **change in** turbine speed, or $e=\\Delta \\Omega_d - \\Delta \\Omega$ of less than 20% of the requested change for a step change in desired turbine speed of 2 rad/s. All changes should occur relative to an NOP defined by a nominal valve position of $\\bar{u}_v = 40\\%$.\n",
    "\n",
    "Present your hand-calculations to achieve this controller design in the markdown cell below."
   ]
  },
  {
   "attachments": {},
   "cell_type": "markdown",
   "metadata": {
    "deletable": false,
    "nbgrader": {
     "cell_type": "markdown",
     "checksum": "9eeb89d36d1efa5b84c744ca846392bf",
     "grade": true,
     "grade_id": "cell-ee1ca5d3c37936c3",
     "locked": false,
     "points": 10,
     "schema_version": 3,
     "solution": true
    }
   },
   "source": [
    "YOUR ANSWER HERE"
   ]
  },
  {
   "cell_type": "markdown",
   "metadata": {
    "deletable": false,
    "editable": false,
    "hide_input": false,
    "nbgrader": {
     "cell_type": "markdown",
     "checksum": "768059c7baf00e18ee3c2a1b38267033",
     "grade": false,
     "grade_id": "cell-7618e251df162b6a",
     "locked": true,
     "schema_version": 3,
     "solution": false,
     "task": false
    }
   },
   "source": [
    "## THE SIMULATION HAS BEEN UPDATED\n",
    "\n",
    "In addition to the variables such as `VALVE`, `VALVEPERCENT`, and `REC` that you have become accustomed to using in the simulator, you now also have the ability to access the turbine's speed in radians/second by calling the variable `OMEGARS`. You also now have access to a global variable called `Kp`, which is initially set to 0. You can set `Kp` to any value you like inside your simulator code. Finally, you now have access to a global variable called `OMEGADES`, which is initially set to 0. You can set this value to anything you like to represent the *desired* speed for your turbine in rad/s.\n",
    "\n",
    "These new variables will allow you to implement closed-loop control by setting VALVEPERCENT according to the current turbine speed!\n",
    "\n",
    "The data file's structure is the same as it was for your last assignment, except that VALVEPERCENT has been added as a 7th column.\n",
    "\n",
    "| **column** | **1** | **2** | **3** | **4** | **5**| **6** | **7**|\n",
    "|:------:|:-:|:-:|:-:|:-:|:-:|:-:|:-:|\n",
    "|     **data**   | time  |  gauge height (ft) | Pressure at penstock valve (kPa)  | turbine speed (RPM)  | generator volts  | house volts  | valve percent |"
   ]
  },
  {
   "cell_type": "markdown",
   "metadata": {
    "deletable": false,
    "editable": false,
    "nbgrader": {
     "cell_type": "markdown",
     "checksum": "defd479ea4567dd2bc81edafb4f11b75",
     "grade": false,
     "grade_id": "cell-7614404177482dec",
     "locked": true,
     "schema_version": 3,
     "solution": false,
     "task": false
    }
   },
   "source": [
    "## *Controller Validation:*\n",
    "\n",
    "### Update your data collection code add a proportional control law\n",
    "\n",
    "In the markdown cell below, update your data collection code to implement proportional control on valve position according to the current turbine speed. The operation should be as follows:\n",
    "\n",
    "* Before recording data, VALVEPERCENT should be set to a constant value\n",
    "* Pressing X1 will begin recording and allow the proportional controller assign the value of VALVEPERCENT according to the error between a desired turbine speed `OMEGADES` and the actual turbine speed `OMEGARS`.\n",
    "* Recording should commence for 5 seconds as before upon a press of X1.\n",
    "\n",
    "You should only need to update your block 4 code, so no new FSM design is required-- just a direct modification to the code will be sufficient. Properly format and paste your updated code below."
   ]
  },
  {
   "cell_type": "markdown",
   "metadata": {
    "deletable": false,
    "nbgrader": {
     "cell_type": "markdown",
     "checksum": "82a98fcd6dc798c7597e43ecd7525653",
     "grade": true,
     "grade_id": "cell-f8b2045f55282170",
     "locked": false,
     "points": 5,
     "schema_version": 3,
     "solution": true,
     "task": false
    }
   },
   "source": [
    "YOUR ANSWER HERE"
   ]
  },
  {
   "cell_type": "markdown",
   "metadata": {
    "deletable": false,
    "editable": false,
    "nbgrader": {
     "cell_type": "markdown",
     "checksum": "bef1c72308055cd70cdce6d4be410cf8",
     "grade": false,
     "grade_id": "cell-7fcd2766043bc2a2",
     "locked": true,
     "schema_version": 3,
     "solution": false,
     "task": false
    }
   },
   "source": [
    "Using the updated control code above, implement your control law on the dam. Collect data with the valve position initially open to $\\bar{u}_v = 40\\%$. When X1 is pressed, the desired speed should be increased by 2.0 rad/s over the turbine steady state angular velocity at the 40% valve setting.\n",
    "\n",
    "Then, **simulate** your closed-loop system's behavior in response to the step change in desired turbine speed. You can use  have MATLAB/Octave simulate the responses using your transfer functions and the `step()` command. Plot the simulated closed-loop response and your collected data on one set of axes."
   ]
  },
  {
   "cell_type": "code",
   "execution_count": null,
   "metadata": {
    "deletable": false,
    "nbgrader": {
     "cell_type": "code",
     "checksum": "f8917bfd9390556b14953d45ddd5981d",
     "grade": true,
     "grade_id": "cell-ea4d8753549b8d93",
     "locked": false,
     "points": 5,
     "schema_version": 3,
     "solution": true
    }
   },
   "outputs": [],
   "source": [
    "% YOUR CODE HERE\n",
    "error('No Answer Given!')"
   ]
  },
  {
   "cell_type": "markdown",
   "metadata": {
    "deletable": false,
    "editable": false,
    "nbgrader": {
     "cell_type": "markdown",
     "checksum": "f1c0f3785e2cbfeddb5641c84d3a860a",
     "grade": false,
     "grade_id": "cell-359c665cd55d65bd",
     "locked": true,
     "schema_version": 3,
     "solution": false,
     "task": false
    }
   },
   "source": [
    "In the markdown cells below, evaluate your model. Answer the following two questions.\n",
    "\n",
    "1. Does the controller satisfy the design requirement?"
   ]
  },
  {
   "cell_type": "markdown",
   "metadata": {
    "deletable": false,
    "nbgrader": {
     "cell_type": "markdown",
     "checksum": "e763b8e8ef8296c5db3348ee069e20b9",
     "grade": true,
     "grade_id": "cell-df0063868b2681d5",
     "locked": false,
     "points": 2,
     "schema_version": 3,
     "solution": true,
     "task": false
    }
   },
   "source": [
    "YOUR ANSWER HERE"
   ]
  },
  {
   "cell_type": "markdown",
   "metadata": {
    "deletable": false,
    "editable": false,
    "nbgrader": {
     "cell_type": "markdown",
     "checksum": "d5ed3ce3a2f2b22ff3d259ef461ba077",
     "grade": false,
     "grade_id": "cell-ad9cb4211e4c07c5",
     "locked": true,
     "schema_version": 3,
     "solution": false,
     "task": false
    }
   },
   "source": [
    "2. How well does it predict the actual behavior of the dam under closed loop control? Be specific, commenting on the response in terms of analytical concepts we've used to [describe system behavior](../W03A_Modeling_MathematicalTools/Week03A_Modeling_MathematicalTools.ipynb). If the behavior of the \"real\" system is different, comment specifically on what you think may be responsible for the differences."
   ]
  },
  {
   "cell_type": "markdown",
   "metadata": {
    "deletable": false,
    "nbgrader": {
     "cell_type": "markdown",
     "checksum": "042c301650f59b677100d0816d881ebb",
     "grade": true,
     "grade_id": "cell-81e1b20911a04616",
     "locked": false,
     "points": 5,
     "schema_version": 3,
     "solution": true,
     "task": false
    }
   },
   "source": [
    "YOUR ANSWER HERE"
   ]
  }
 ],
 "metadata": {
  "hide_input": false,
  "kernelspec": {
   "display_name": "Octave",
   "language": "octave",
   "name": "octave"
  },
  "language_info": {
   "file_extension": ".m",
   "help_links": [
    {
     "text": "GNU Octave",
     "url": "https://www.gnu.org/software/octave/support.html"
    },
    {
     "text": "Octave Kernel",
     "url": "https://github.com/Calysto/octave_kernel"
    },
    {
     "text": "MetaKernel Magics",
     "url": "https://metakernel.readthedocs.io/en/latest/source/README.html"
    }
   ],
   "mimetype": "text/x-octave",
   "name": "octave",
   "version": "4.2.2"
  },
  "nbTranslate": {
   "displayLangs": [
    "*"
   ],
   "hotkey": "alt-t",
   "langInMainMenu": true,
   "sourceLang": "en",
   "targetLang": "fr",
   "useGoogleTranslate": true
  },
  "toc": {
   "base_numbering": 1,
   "nav_menu": {
    "height": "30px",
    "width": "252px"
   },
   "number_sections": true,
   "sideBar": true,
   "skip_h1_title": false,
   "title_cell": "Table of Contents",
   "title_sidebar": "Contents",
   "toc_cell": true,
   "toc_position": {},
   "toc_section_display": "block",
   "toc_window_display": false
  },
  "varInspector": {
   "cols": {
    "lenName": 16,
    "lenType": 16,
    "lenVar": 40
   },
   "kernels_config": {
    "python": {
     "delete_cmd_postfix": "",
     "delete_cmd_prefix": "del ",
     "library": "var_list.py",
     "varRefreshCmd": "print(var_dic_list())"
    },
    "r": {
     "delete_cmd_postfix": ") ",
     "delete_cmd_prefix": "rm(",
     "library": "var_list.r",
     "varRefreshCmd": "cat(var_dic_list()) "
    }
   },
   "types_to_exclude": [
    "module",
    "function",
    "builtin_function_or_method",
    "instance",
    "_Feature"
   ],
   "window_display": false
  }
 },
 "nbformat": 4,
 "nbformat_minor": 2
}
