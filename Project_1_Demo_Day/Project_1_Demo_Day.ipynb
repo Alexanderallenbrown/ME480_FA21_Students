{
 "cells": [
  {
   "cell_type": "markdown",
   "metadata": {
    "deletable": false,
    "editable": false,
    "nbgrader": {
     "cell_type": "markdown",
     "checksum": "9e2a2d7aec6dd7612f0d74cca7019d34",
     "grade": false,
     "grade_id": "cell-d58237eb678415c7",
     "locked": true,
     "schema_version": 3,
     "solution": false,
     "task": false
    },
    "toc": true
   },
   "source": [
    "<h1>Table of Contents<span class=\"tocSkip\"></span></h1>\n",
    "<div class=\"toc\"><ul class=\"toc-item\"><li><span><a href=\"#Zumo-Arduino-Code\" data-toc-modified-id=\"Zumo-Arduino-Code-1\"><span class=\"toc-item-num\">1&nbsp;&nbsp;</span>Zumo Arduino Code</a></span></li><li><span><a href=\"#Model-Code---Condition-1\" data-toc-modified-id=\"Model-Code---Condition-1-2\"><span class=\"toc-item-num\">2&nbsp;&nbsp;</span>Model Code - Condition 1</a></span></li><li><span><a href=\"#Model-Code---Condition-2\" data-toc-modified-id=\"Model-Code---Condition-2-3\"><span class=\"toc-item-num\">3&nbsp;&nbsp;</span>Model Code - Condition 2</a></span></li></ul></div>"
   ]
  },
  {
   "cell_type": "markdown",
   "metadata": {
    "deletable": false,
    "editable": false,
    "nbgrader": {
     "cell_type": "markdown",
     "checksum": "b021fe684a20c29cbdcfdb79aab8a4ff",
     "grade": false,
     "grade_id": "cell-a2fefbb6d3e763c8",
     "locked": true,
     "schema_version": 3,
     "solution": false,
     "task": false
    }
   },
   "source": [
    "# Zumo Arduino Code\n",
    "\n",
    "Paste your PROPERLY FORMATTED Arduino code in the cell below"
   ]
  },
  {
   "cell_type": "markdown",
   "metadata": {
    "deletable": false,
    "nbgrader": {
     "cell_type": "markdown",
     "checksum": "aee810a557bd877238ce32e72dc91722",
     "grade": true,
     "grade_id": "cell-7d9eca55ff898e8b",
     "locked": false,
     "points": 0,
     "schema_version": 3,
     "solution": true,
     "task": false
    }
   },
   "source": [
    "YOUR ANSWER HERE"
   ]
  },
  {
   "cell_type": "markdown",
   "metadata": {
    "deletable": false,
    "editable": false,
    "nbgrader": {
     "cell_type": "markdown",
     "checksum": "8f7a77d1810ecb5ceaa97833e363d685",
     "grade": false,
     "grade_id": "cell-a230bc94d0bd34d8",
     "locked": true,
     "schema_version": 3,
     "solution": false,
     "task": false
    }
   },
   "source": [
    "# Model Code - Condition 1\n",
    "\n",
    "Include and run your code in the cell below to generate the output you used to program your zumo for the first condition.  Add any necessary files to run your code to this jupyter folder."
   ]
  },
  {
   "cell_type": "code",
   "execution_count": null,
   "metadata": {
    "deletable": false,
    "nbgrader": {
     "cell_type": "code",
     "checksum": "89f2caf4d683630213212d5af08688f1",
     "grade": true,
     "grade_id": "cell-46cdd134e9a493e6",
     "locked": false,
     "points": 0,
     "schema_version": 3,
     "solution": true,
     "task": false
    }
   },
   "outputs": [],
   "source": [
    "% YOUR CODE HERE\n",
    "error('No Answer Given!')"
   ]
  },
  {
   "cell_type": "markdown",
   "metadata": {
    "deletable": false,
    "editable": false,
    "nbgrader": {
     "cell_type": "markdown",
     "checksum": "f0e14aebb64802c4da8a245d4f7b85ba",
     "grade": false,
     "grade_id": "cell-a230bc94d0bd34d9",
     "locked": true,
     "schema_version": 3,
     "solution": false,
     "task": false
    }
   },
   "source": [
    "# Model Code - Condition 2\n",
    "\n",
    "Include and run your code in the cell below to generate the output you used to program your zumo for the first condition."
   ]
  },
  {
   "cell_type": "code",
   "execution_count": null,
   "metadata": {
    "deletable": false,
    "nbgrader": {
     "cell_type": "code",
     "checksum": "780a5eef3b862f2b6133345bfb3c3051",
     "grade": true,
     "grade_id": "cell-d0c31ae989608751",
     "locked": false,
     "points": 0,
     "schema_version": 3,
     "solution": true,
     "task": false
    }
   },
   "outputs": [],
   "source": [
    "% YOUR CODE HERE\n",
    "error('No Answer Given!')"
   ]
  }
 ],
 "metadata": {
  "kernelspec": {
   "display_name": "Octave",
   "language": "octave",
   "name": "octave"
  },
  "language_info": {
   "file_extension": ".m",
   "help_links": [
    {
     "text": "GNU Octave",
     "url": "https://www.gnu.org/software/octave/support.html"
    },
    {
     "text": "Octave Kernel",
     "url": "https://github.com/Calysto/octave_kernel"
    },
    {
     "text": "MetaKernel Magics",
     "url": "https://metakernel.readthedocs.io/en/latest/source/README.html"
    }
   ],
   "mimetype": "text/x-octave",
   "name": "octave",
   "version": "4.2.2"
  },
  "toc": {
   "base_numbering": 1,
   "nav_menu": {},
   "number_sections": true,
   "sideBar": true,
   "skip_h1_title": false,
   "title_cell": "Table of Contents",
   "title_sidebar": "Contents",
   "toc_cell": true,
   "toc_position": {},
   "toc_section_display": true,
   "toc_window_display": false
  }
 },
 "nbformat": 4,
 "nbformat_minor": 4
}
